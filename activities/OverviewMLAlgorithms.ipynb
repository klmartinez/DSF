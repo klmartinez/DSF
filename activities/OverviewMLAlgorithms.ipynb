{
  "nbformat": 4,
  "nbformat_minor": 0,
  "metadata": {
    "colab": {
      "provenance": [],
      "include_colab_link": true
    },
    "kernelspec": {
      "name": "python3",
      "display_name": "Python 3"
    },
    "language_info": {
      "name": "python"
    }
  },
  "cells": [
    {
      "cell_type": "markdown",
      "metadata": {
        "id": "view-in-github",
        "colab_type": "text"
      },
      "source": [
        "<a href=\"https://colab.research.google.com/github/klmartinez/DSF/blob/main/activities/OverviewMLAlgorithms.ipynb\" target=\"_parent\"><img src=\"https://colab.research.google.com/assets/colab-badge.svg\" alt=\"Open In Colab\"/></a>"
      ]
    },
    {
      "cell_type": "markdown",
      "source": [
        "## DSF Fall 2022 \n",
        "\n",
        "### Challenge: Regression Linear Model\n",
        "\n",
        "Posted: 11/15/2022\n",
        "\n",
        "Originally created by **Carlos Lizarraga**, edited by Kiana Lee Martinez.\n",
        "\n",
        "We used the [linear_model.LinearRegression](https://scikit-learn.org/stable/modules/generated/sklearn.linear_model.LinearRegression.html?highlight=linear_model) model (same as the Ordinary Least Squares Method Linear Fit), to fit a linear modelto the diabetes dataset inclyded in the Scikit-Learn Library.\n",
        "\n",
        "There is a large collection of different types of Regression Algorithms included in the [sklearn.linear_model](https://scikit-learn.org/stable/modules/classes.html?highlight=linear_model#module-sklearn.linear_model). \n",
        "\n",
        "We are now interested in comparing the standard LinearRegression Algorithm with the following set of [Robust Regressors](https://en.wikipedia.org/wiki/Robust_regression):\n",
        "* [HubberRegressor](https://scikit-learn.org/stable/modules/generated/sklearn.linear_model.HuberRegressor.html#sklearn.linear_model.HuberRegressor)\n",
        "* [RANSACRegressor](https://scikit-learn.org/stable/modules/generated/sklearn.linear_model.RANSACRegressor.html#sklearn.linear_model.RANSACRegressor)\n",
        "* [TheilSenRegressor](https://scikit-learn.org/stable/modules/generated/sklearn.linear_model.TheilSenRegressor.html#sklearn.linear_model.TheilSenRegressor)\n",
        "\n",
        "Robust Regressors perform better when data outliers are present. \n",
        "\n",
        "Please run the additional set of Robust Regression Algorithms and perform a comparison between the [regression metrics](https://scikit-learn.org/stable/modules/model_evaluation.html#regression-metrics) for each case. \n",
        "\n",
        "Comment on the results of your observations. \n",
        "\n",
        "Once you accomplish this task, please save a copy of your Jupyter Notebook in your Github DSF Weekly Journals. \n"
      ],
      "metadata": {
        "id": "2-Y3p8gdOPrI"
      }
    },
    {
      "cell_type": "markdown",
      "source": [
        "## An Overview of Machine Learning Algorithms\n",
        "\n",
        "Created: 11/15/2022\n",
        "\n",
        "We will use Python's Machine Learning  [Scikit-Learn Library](https://scikit-learn.org/stable/index.html), in particular the [LinearRegression model](https://scikit-learn.org/stable/modules/generated/sklearn.linear_model.LinearRegression.html?highlight=linearregression#sklearn.linear_model.LinearRegression). "
      ],
      "metadata": {
        "id": "ulUMjygKx9gx"
      }
    },
    {
      "cell_type": "code",
      "source": [
        "# importing needed packages\n",
        "import matplotlib.pylab as plt\n",
        "import numpy as np\n",
        "import pandas as pd # import pandas\n",
        "\n",
        "from sklearn.linear_model import LinearRegression # import LinearRegression\n",
        "from sklearn.linear_model import HuberRegressor # import HuberRegressor\n",
        "from sklearn.linear_model import RANSACRegressor # import RANSACRegressor\n",
        "from sklearn.linear_model import TheilSenRegressor # import TheilSenRegressor\n",
        "from sklearn.metrics import mean_squared_error, r2_score\n",
        "from sklearn.metrics import mean_absolute_error, mean_absolute_percentage_error\n",
        "from sklearn.model_selection import train_test_split\n",
        "from sklearn import datasets\n",
        "\n",
        "# '%matplotlib' is a line-oriented \"magic function\" in Python\n",
        "# '%matplotlib inline' sets the backend of the matplotlib to the 'inline' backend; i.e. it renders the figure in the notebook instead of displaying a dump of the figure object\n",
        "%matplotlib inline\n"
      ],
      "metadata": {
        "id": "hMopvycquGeF"
      },
      "execution_count": 139,
      "outputs": []
    },
    {
      "cell_type": "markdown",
      "source": [
        "### Diabetes Dataset\n",
        "\n",
        "We will use the [diabetes dataset](https://scikit-learn.org/stable/modules/generated/sklearn.datasets.load_diabetes.html) included in Scikit-Learn."
      ],
      "metadata": {
        "id": "tWZiwkdzyiYC"
      }
    },
    {
      "cell_type": "code",
      "source": [
        "diabetes=datasets.load_diabetes() # Load dataset\n",
        "X, y = diabetes.data, diabetes.target\n",
        "print(diabetes.DESCR)"
      ],
      "metadata": {
        "colab": {
          "base_uri": "https://localhost:8080/"
        },
        "id": "xZuuTZoN1oXE",
        "outputId": "8a84864d-1e1f-4c97-d3b8-dee1c69143c7"
      },
      "execution_count": 137,
      "outputs": [
        {
          "output_type": "stream",
          "name": "stdout",
          "text": [
            ".. _diabetes_dataset:\n",
            "\n",
            "Diabetes dataset\n",
            "----------------\n",
            "\n",
            "Ten baseline variables, age, sex, body mass index, average blood\n",
            "pressure, and six blood serum measurements were obtained for each of n =\n",
            "442 diabetes patients, as well as the response of interest, a\n",
            "quantitative measure of disease progression one year after baseline.\n",
            "\n",
            "**Data Set Characteristics:**\n",
            "\n",
            "  :Number of Instances: 442\n",
            "\n",
            "  :Number of Attributes: First 10 columns are numeric predictive values\n",
            "\n",
            "  :Target: Column 11 is a quantitative measure of disease progression one year after baseline\n",
            "\n",
            "  :Attribute Information:\n",
            "      - age     age in years\n",
            "      - sex\n",
            "      - bmi     body mass index\n",
            "      - bp      average blood pressure\n",
            "      - s1      tc, total serum cholesterol\n",
            "      - s2      ldl, low-density lipoproteins\n",
            "      - s3      hdl, high-density lipoproteins\n",
            "      - s4      tch, total cholesterol / HDL\n",
            "      - s5      ltg, possibly log of serum triglycerides level\n",
            "      - s6      glu, blood sugar level\n",
            "\n",
            "Note: Each of these 10 feature variables have been mean centered and scaled by the standard deviation times `n_samples` (i.e. the sum of squares of each column totals 1).\n",
            "\n",
            "Source URL:\n",
            "https://www4.stat.ncsu.edu/~boos/var.select/diabetes.html\n",
            "\n",
            "For more information see:\n",
            "Bradley Efron, Trevor Hastie, Iain Johnstone and Robert Tibshirani (2004) \"Least Angle Regression,\" Annals of Statistics (with discussion), 407-499.\n",
            "(https://web.stanford.edu/~hastie/Papers/LARS/LeastAngle_2002.pdf)\n"
          ]
        }
      ]
    },
    {
      "cell_type": "code",
      "source": [
        "diabetes.data.shape # feature matrix shape"
      ],
      "metadata": {
        "colab": {
          "base_uri": "https://localhost:8080/"
        },
        "id": "GML3hsUotO1p",
        "outputId": "098a8c8b-ce9c-4dde-816a-7aa54fd26aaf"
      },
      "execution_count": 5,
      "outputs": [
        {
          "output_type": "execute_result",
          "data": {
            "text/plain": [
              "(442, 10)"
            ]
          },
          "metadata": {},
          "execution_count": 5
        }
      ]
    },
    {
      "cell_type": "code",
      "source": [
        "diabetes.target.shape # target vector shape"
      ],
      "metadata": {
        "colab": {
          "base_uri": "https://localhost:8080/"
        },
        "id": "d4gtKlj0tO8Q",
        "outputId": "0bd5f9a3-8e70-40ea-c33c-91971bda84bb"
      },
      "execution_count": 6,
      "outputs": [
        {
          "output_type": "execute_result",
          "data": {
            "text/plain": [
              "(442,)"
            ]
          },
          "metadata": {},
          "execution_count": 6
        }
      ]
    },
    {
      "cell_type": "code",
      "source": [
        "diabetes.feature_names # column names"
      ],
      "metadata": {
        "colab": {
          "base_uri": "https://localhost:8080/"
        },
        "id": "PIkFFOaTtPAL",
        "outputId": "c4ba726f-9a63-4401-f6b1-25c8c26d7b49"
      },
      "execution_count": 7,
      "outputs": [
        {
          "output_type": "execute_result",
          "data": {
            "text/plain": [
              "['age', 'sex', 'bmi', 'bp', 's1', 's2', 's3', 's4', 's5', 's6']"
            ]
          },
          "metadata": {},
          "execution_count": 7
        }
      ]
    },
    {
      "cell_type": "markdown",
      "source": [
        "\n",
        "### Linear Regression Model\n",
        "\n",
        "Linear Regression assumes the following model:\n",
        "\n",
        "$y = Xβ + c + ϵ$\n",
        "\n",
        "where: \n",
        "\n",
        "$X$ is the data, $β$ are the coefficients, \n",
        "$c$ is the intercept, $ϵ$ is an error that cannot be explained by model, $y$ is the target. \n",
        "\n",
        "Using scikit-learn, linear regression is very easy:"
      ],
      "metadata": {
        "id": "-emjyYK4vB9O"
      }
    },
    {
      "cell_type": "markdown",
      "source": [
        "![aaML_TrainTest.png](data:image/png;base64,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)"
      ],
      "metadata": {
        "id": "xGDCk9oe4cFB"
      }
    },
    {
      "cell_type": "code",
      "source": [
        "# Seperate train and test data (4 groups)\n",
        "# Will set 20% of the data for testing the model, and a random_state is set for reproducibility. \n",
        "X_train, X_test, y_train, y_test = train_test_split(diabetes.data, diabetes.target, \n",
        "                                                    test_size=0.2, random_state=0)\n",
        "\n",
        "# There are three steps to model something with sklearn\n",
        "\n",
        "# 1. Set up the model\n",
        "model = LinearRegression()\n",
        "\n",
        "# 2. Then train the model using fit \n",
        "model.fit(X_train, y_train)\n",
        "\n",
        "# 3. Check the performance score with unseen test data\n",
        "model.score(X_test, y_test)\n"
      ],
      "metadata": {
        "colab": {
          "base_uri": "https://localhost:8080/"
        },
        "id": "nHtnXRpPt84L",
        "outputId": "21c6b102-8bdc-486b-bf17-6395b888b25a"
      },
      "execution_count": 120,
      "outputs": [
        {
          "output_type": "execute_result",
          "data": {
            "text/plain": [
              "0.33222203269065176"
            ]
          },
          "metadata": {},
          "execution_count": 120
        }
      ]
    },
    {
      "cell_type": "markdown",
      "source": [
        "You can extract model information:"
      ],
      "metadata": {
        "id": "RSBE31wjwhVq"
      }
    },
    {
      "cell_type": "code",
      "source": [
        "model.coef_ # Get the coefficients, beta (slopes)"
      ],
      "metadata": {
        "colab": {
          "base_uri": "https://localhost:8080/"
        },
        "id": "ExN3Y54Ht88q",
        "outputId": "b08e32ae-1874-4904-ddcf-39090c761075"
      },
      "execution_count": 26,
      "outputs": [
        {
          "output_type": "execute_result",
          "data": {
            "text/plain": [
              "array([ -35.55683674, -243.1692265 ,  562.75404632,  305.47203008,\n",
              "       -662.78772128,  324.27527477,   24.78193291,  170.33056502,\n",
              "        731.67810787,   43.02846824])"
            ]
          },
          "metadata": {},
          "execution_count": 26
        }
      ]
    },
    {
      "cell_type": "code",
      "source": [
        "model.intercept_ # Get the intercept, c"
      ],
      "metadata": {
        "colab": {
          "base_uri": "https://localhost:8080/"
        },
        "id": "BOPy_e-Lt9Aj",
        "outputId": "e006bee0-1ce7-453e-f5bb-43165766acc7"
      },
      "execution_count": 27,
      "outputs": [
        {
          "output_type": "execute_result",
          "data": {
            "text/plain": [
              "152.5381335195406"
            ]
          },
          "metadata": {},
          "execution_count": 27
        }
      ]
    },
    {
      "cell_type": "code",
      "source": [
        "model.get_params()"
      ],
      "metadata": {
        "colab": {
          "base_uri": "https://localhost:8080/"
        },
        "id": "13HZzXeIM2mJ",
        "outputId": "6ae6fa15-8582-4fcb-a904-2b3959407f90"
      },
      "execution_count": 28,
      "outputs": [
        {
          "output_type": "execute_result",
          "data": {
            "text/plain": [
              "{'copy_X': True,\n",
              " 'fit_intercept': True,\n",
              " 'n_jobs': None,\n",
              " 'normalize': 'deprecated',\n",
              " 'positive': False}"
            ]
          },
          "metadata": {},
          "execution_count": 28
        }
      ]
    },
    {
      "cell_type": "code",
      "source": [
        "model.predict(X_test) # Predict unkown data"
      ],
      "metadata": {
        "colab": {
          "base_uri": "https://localhost:8080/"
        },
        "id": "0VELT5ZdwtCL",
        "outputId": "ceabf7ae-0b58-4fe9-ef96-de1ed1e369e0"
      },
      "execution_count": 29,
      "outputs": [
        {
          "output_type": "execute_result",
          "data": {
            "text/plain": [
              "array([238.47145247, 248.93170646, 164.05404165, 120.30794355,\n",
              "       187.42422054, 259.04865002, 113.55556372, 188.07597044,\n",
              "       149.49663441, 236.01099949, 172.24629506, 178.88073764,\n",
              "       109.15751983,  92.13508975, 243.33042043,  87.356971  ,\n",
              "       155.72606406,  66.99073989, 100.42610442, 218.09422877,\n",
              "       196.66287912, 161.29832968, 161.70779605, 156.52520454,\n",
              "       197.88796516, 167.57984206, 120.74478913,  84.83879727,\n",
              "       192.03728687, 160.60687024, 175.17178362,  84.22833237,\n",
              "       145.7995542 , 145.97333493, 140.96488953, 197.00421108,\n",
              "       165.94322494, 190.65906468, 128.22520508, 206.41941223,\n",
              "        84.35851196, 164.0256504 , 144.1056776 , 184.68355549,\n",
              "       177.80238966,  74.32855231, 143.3660286 , 138.67726085,\n",
              "       120.81146113, 234.34252077, 161.94390244,  74.5455476 ,\n",
              "       154.71905074, 156.78884927, 237.42227096, 174.23053048,\n",
              "       190.88212635, 118.98373473, 132.20418974, 168.52674824,\n",
              "       214.74245466, 171.42364091, 157.37409906, 108.86927343,\n",
              "       257.06329636, 152.17777143,  82.43686464, 231.56746032,\n",
              "       202.90641336,  47.18340199,  78.46954525, 129.30170908,\n",
              "       104.60253144, 144.65200281, 132.27974254, 190.04134164,\n",
              "        97.55541138, 197.51891007, 219.13709291, 186.13797012,\n",
              "       149.60913007, 208.42379455,  44.59036026, 206.20925368,\n",
              "        76.77377721,  94.94046865, 145.2955051 , 194.03776373,\n",
              "       132.78534336])"
            ]
          },
          "metadata": {},
          "execution_count": 29
        }
      ]
    },
    {
      "cell_type": "markdown",
      "source": [
        "\n",
        "We can plot the prediction y_pred versus original y_test"
      ],
      "metadata": {
        "id": "czRV0O6LxB1O"
      }
    },
    {
      "cell_type": "code",
      "source": [
        "# plot prediction and actual data\n",
        "y_pred = model.predict(X_test) \n",
        "plt.plot(y_test, y_pred, '.')\n",
        "\n",
        "# plot a line, a perfect prediction would all fall on this line\n",
        "# np.linspace is a linear array of 100 values between 0 and 330\n",
        "x = np.linspace(0, 330, 100) \n",
        "y = x\n",
        "plt.plot(x, y)\n",
        "plt.show()\n",
        "\n"
      ],
      "metadata": {
        "colab": {
          "base_uri": "https://localhost:8080/",
          "height": 265
        },
        "id": "Y0URyRTExAa-",
        "outputId": "c399107c-fb18-402d-f455-b6ffd6b6ebc5"
      },
      "execution_count": 30,
      "outputs": [
        {
          "output_type": "display_data",
          "data": {
            "text/plain": [
              "<Figure size 432x288 with 1 Axes>"
            ],
            "image/png": "[encoded data removed]"
          },
          "metadata": {
            "needs_background": "light"
          }
        }
      ]
    },
    {
      "cell_type": "markdown",
      "source": [
        "We now extract some known [Linear Regression metrics](https://scikit-learn.org/stable/modules/model_evaluation.html#regression-metrics) information. \n",
        "\n"
      ],
      "metadata": {
        "id": "Qd2eeAu41RwR"
      }
    },
    {
      "cell_type": "code",
      "source": [
        "# The coefficients\n",
        "print(\"Coefficients: \\n\", model.coef_)\n",
        "\n",
        "# Mean Absolute Error (MAE)\n",
        "print(\"Mean Absolute Error (MAE): %.2f\" % mean_absolute_error(y_test, y_pred))\n",
        "\n",
        "# The mean squared error\n",
        "print(\"Mean Squared Error: %.2f\" % mean_squared_error(y_test, y_pred))\n",
        "\n",
        "# Mean Absolute Percent Error\n",
        "print(\"Mean Absolute Percent Error: %.2f\" % mean_absolute_percentage_error(y_test, y_pred))\n",
        "\n",
        "# The coefficient of determination: 1 is perfect prediction\n",
        "print(\"Coefficient of determination: %.2f\" % r2_score(y_test, y_pred))\n"
      ],
      "metadata": {
        "colab": {
          "base_uri": "https://localhost:8080/"
        },
        "id": "54_ZexK_wtGb",
        "outputId": "34065bfb-90f6-4c4a-a68b-950c7c93a38d"
      },
      "execution_count": 31,
      "outputs": [
        {
          "output_type": "stream",
          "name": "stdout",
          "text": [
            "Coefficients: \n",
            " [ -35.55683674 -243.1692265   562.75404632  305.47203008 -662.78772128\n",
            "  324.27527477   24.78193291  170.33056502  731.67810787   43.02846824]\n",
            "Mean Absolute Error (MAE): 46.17\n",
            "Mean Squared Error: 3424.32\n",
            "Mean Absolute Percent Error: 0.38\n",
            "Coefficient of determination: 0.33\n"
          ]
        }
      ]
    },
    {
      "cell_type": "markdown",
      "source": [
        "## Ridge Regression Model\n",
        "\n",
        "We will use the [diabetes dataset](https://scikit-learn.org/stable/modules/generated/sklearn.datasets.load_diabetes.html) included in Scikit-Learn.\n",
        "\n",
        "We will also be using [HuberRegressor](https://scikit-learn.org/stable/modules/generated/sklearn.linear_model.HuberRegressor.html#sklearn.linear_model.HuberRegressor).\n",
        "\n",
        "A ridge regression model is used to analyze any data that suffers from [multicollinearity](https://statisticsbyjim.com/regression/multicollinearity-in-regression-analysis/) (where several independent variables in a model are correlated). When the issue of multicollinearity occurs, least-squares are unbiased, and variances are large, this results in predicted values being far away from the actual values. Ridge regression is going to minimize the sum of squared errors and sum of the squared coefficients by adding a penalty function. It is also robust to outliers. "
      ],
      "metadata": {
        "id": "idWVV_VVSPnP"
      }
    },
    {
      "cell_type": "markdown",
      "source": [
        "![ridgeregressionOF.png](data:image/png;base64,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)"
      ],
      "metadata": {
        "id": "yU967xZrA15s"
      }
    },
    {
      "cell_type": "markdown",
      "source": [
        "We have already sepearted out training and test data (4 groups) durign the Linear Regression, so we will jump forward to setting up the model. "
      ],
      "metadata": {
        "id": "lchyP0Y4bvPF"
      }
    },
    {
      "cell_type": "code",
      "source": [
        "# There are three steps to model something with sklearn\n",
        "\n",
        "# 1. Set up the model\n",
        "model_ridge = HuberRegressor(max_iter=150)\n",
        "\n",
        "# 2. Then train the model using fit \n",
        "model_ridge.fit(X_train, y_train)\n",
        "\n",
        "# 3. Check the performance score with unseen test data\n",
        "model_ridge.score(X_test, y_test)"
      ],
      "metadata": {
        "id": "vPmn3q1iwtLU",
        "outputId": "8ef36c99-361c-46f3-99df-e586e7766c2f",
        "colab": {
          "base_uri": "https://localhost:8080/"
        }
      },
      "execution_count": 45,
      "outputs": [
        {
          "output_type": "execute_result",
          "data": {
            "text/plain": [
              "0.31374950771821253"
            ]
          },
          "metadata": {},
          "execution_count": 45
        }
      ]
    },
    {
      "cell_type": "markdown",
      "source": [
        "You can extract model information:"
      ],
      "metadata": {
        "id": "MXTUyvTFj0bj"
      }
    },
    {
      "cell_type": "code",
      "source": [
        "model_ridge.coef_ # Get the coefficients, beta (slopes)"
      ],
      "metadata": {
        "colab": {
          "base_uri": "https://localhost:8080/"
        },
        "id": "UvtLe27sj0By",
        "outputId": "356de7f2-b7c6-4ecb-f901-360bc92100a2"
      },
      "execution_count": 46,
      "outputs": [
        {
          "output_type": "execute_result",
          "data": {
            "text/plain": [
              "array([ -63.40075069, -312.12158533,  574.78250325,  328.43833872,\n",
              "       -381.83933224,   94.85730046, -120.83673881,  112.90456316,\n",
              "        653.7904682 ,   31.16355687])"
            ]
          },
          "metadata": {},
          "execution_count": 46
        }
      ]
    },
    {
      "cell_type": "code",
      "source": [
        "model_ridge.intercept_ # Get the intercept, c"
      ],
      "metadata": {
        "id": "uL6YZTWu3qou",
        "colab": {
          "base_uri": "https://localhost:8080/"
        },
        "outputId": "aae2108b-8313-4686-98b9-e44b1359b7dc"
      },
      "execution_count": 47,
      "outputs": [
        {
          "output_type": "execute_result",
          "data": {
            "text/plain": [
              "152.2593312406598"
            ]
          },
          "metadata": {},
          "execution_count": 47
        }
      ]
    },
    {
      "cell_type": "code",
      "source": [
        "model_ridge.get_params()"
      ],
      "metadata": {
        "colab": {
          "base_uri": "https://localhost:8080/"
        },
        "id": "9q7WHPREj8Zq",
        "outputId": "50da7b03-3a57-49cc-e447-d1c31b1bd9e0"
      },
      "execution_count": 48,
      "outputs": [
        {
          "output_type": "execute_result",
          "data": {
            "text/plain": [
              "{'alpha': 0.0001,\n",
              " 'epsilon': 1.35,\n",
              " 'fit_intercept': True,\n",
              " 'max_iter': 150,\n",
              " 'tol': 1e-05,\n",
              " 'warm_start': False}"
            ]
          },
          "metadata": {},
          "execution_count": 48
        }
      ]
    },
    {
      "cell_type": "code",
      "source": [
        "model_ridge.predict(X_test) # Predict unkown data"
      ],
      "metadata": {
        "colab": {
          "base_uri": "https://localhost:8080/"
        },
        "id": "0ff_Zyfqj9Qh",
        "outputId": "6857b636-ea34-4b82-82aa-7e61a469bd01"
      },
      "execution_count": 49,
      "outputs": [
        {
          "output_type": "execute_result",
          "data": {
            "text/plain": [
              "array([236.04969041, 255.80954621, 160.35206752, 122.67007391,\n",
              "       191.33513659, 265.28826066, 114.99314269, 184.78189553,\n",
              "       156.83742622, 242.07463434, 176.08442061, 172.36871422,\n",
              "       104.49384077,  94.48526091, 237.75074921,  87.11564256,\n",
              "       160.76014544,  68.48970819, 108.53899409, 219.48792116,\n",
              "       197.48895558, 162.61331211, 158.27068529, 160.84905796,\n",
              "       196.6232814 , 169.23770335, 119.3414521 ,  84.36800638,\n",
              "       192.9117371 , 155.33309125, 171.28497076,  87.16575318,\n",
              "       150.91633897, 149.64517773, 141.23235981, 198.80536802,\n",
              "       168.56217795, 185.27526776, 130.78800527, 209.40555228,\n",
              "        85.41027165, 161.14552119, 144.76334958, 185.86287773,\n",
              "       172.93546513,  74.22474232, 142.41157478, 142.76553438,\n",
              "       115.03986859, 240.19582853, 158.72827748,  73.03816515,\n",
              "       160.70154815, 149.78008838, 244.16586396, 171.19969818,\n",
              "       192.47681623, 123.4016989 , 130.57900334, 165.81707314,\n",
              "       219.3019305 , 174.39900736, 158.22131007, 103.56824211,\n",
              "       266.68629998, 156.70716369,  84.39743541, 230.23009072,\n",
              "       200.06868636,  42.89688423,  79.98672973, 123.23375705,\n",
              "        96.61894612, 143.82003119, 129.63088374, 187.02599745,\n",
              "        90.97990577, 195.39920366, 213.81640819, 191.13457997,\n",
              "       151.78603485, 205.17599356,  39.9159379 , 203.22987182,\n",
              "        72.57474673,  96.17141034, 149.00314918, 190.43249745,\n",
              "       135.56041906])"
            ]
          },
          "metadata": {},
          "execution_count": 49
        }
      ]
    },
    {
      "cell_type": "markdown",
      "source": [
        "We can plot the prediction y_pred_ridge versus original y_test"
      ],
      "metadata": {
        "id": "oAoNYJ70kMkH"
      }
    },
    {
      "cell_type": "code",
      "source": [
        "# plot prediction and actual data\n",
        "y_pred_ridge = model_ridge.predict(X_test) \n",
        "plt.plot(y_test, y_pred_ridge, '.')\n",
        "\n",
        "# plot a line, a perfect prediction would all fall on this line\n",
        "# np.linspace is a linear array of 100 values between 0 and 330\n",
        "x = np.linspace(0, 330, 100) \n",
        "y = x\n",
        "plt.plot(x, y)\n",
        "plt.show()"
      ],
      "metadata": {
        "colab": {
          "base_uri": "https://localhost:8080/",
          "height": 265
        },
        "id": "BYCOFgmLkOw2",
        "outputId": "c7527b66-d20a-46b2-a3c8-0da36b81ddaf"
      },
      "execution_count": 51,
      "outputs": [
        {
          "output_type": "display_data",
          "data": {
            "text/plain": [
              "<Figure size 432x288 with 1 Axes>"
            ],
            "image/png": "[encoded data removed]"
          },
          "metadata": {
            "needs_background": "light"
          }
        }
      ]
    },
    {
      "cell_type": "markdown",
      "source": [
        "We now extract some known [Linear Regression metrics](https://scikit-learn.org/stable/modules/model_evaluation.html#regression-metrics) information."
      ],
      "metadata": {
        "id": "YXRA-_EPkdtO"
      }
    },
    {
      "cell_type": "code",
      "source": [
        "# The coefficients\n",
        "print(\"Coefficients: \\n\", model_ridge.coef_)\n",
        "\n",
        "# Mean Absolute Error (MAE)\n",
        "print(\"Mean Absolute Error (MAE): %.2f\" % mean_absolute_error(y_test, y_pred_ridge))\n",
        "\n",
        "# The mean squared error\n",
        "print(\"Mean Squared Error: %.2f\" % mean_squared_error(y_test, y_pred_ridge))\n",
        "\n",
        "# Mean Absolute Percent Error\n",
        "print(\"Mean Absolute Percent Error: %.2f\" % mean_absolute_percentage_error(y_test, y_pred_ridge))\n",
        "\n",
        "# The coefficient of determination: 1 is perfect prediction\n",
        "print(\"Coefficient of determination: %.2f\" % r2_score(y_test, y_pred_ridge))"
      ],
      "metadata": {
        "colab": {
          "base_uri": "https://localhost:8080/"
        },
        "id": "Qj1GQz8gki2L",
        "outputId": "26708e20-dc2a-48cd-be1b-b88bac312492"
      },
      "execution_count": 52,
      "outputs": [
        {
          "output_type": "stream",
          "name": "stdout",
          "text": [
            "Coefficients: \n",
            " [ -63.40075069 -312.12158533  574.78250325  328.43833872 -381.83933224\n",
            "   94.85730046 -120.83673881  112.90456316  653.7904682    31.16355687]\n",
            "Mean Absolute Error (MAE): 46.95\n",
            "Mean Squared Error: 3519.04\n",
            "Mean Absolute Percent Error: 0.39\n",
            "Coefficient of determination: 0.31\n"
          ]
        }
      ]
    },
    {
      "cell_type": "markdown",
      "source": [
        "## RANSAC Model\n",
        "\n",
        "We will use the [diabetes dataset](https://scikit-learn.org/stable/modules/generated/sklearn.datasets.load_diabetes.html) included in Scikit-Learn.\n",
        "\n",
        "We will also be using [RANSACRegressor](https://scikit-learn.org/stable/modules/generated/sklearn.linear_model.RANSACRegressor.html#sklearn.linear_model.RANSACRegressor).\n",
        "\n",
        "The randome sample consensus, or RANSAC, algorithm is an iterative method for estimating a mathematical model from a data set that contains outliers. The RANSAC algorithm works by identifying the outliers in a data set and estimating the desired model using data that does not contain outliers.  \n",
        "\n",
        "RANSAC is accomplished with the following steps:\n",
        "1. Randomly selecting a subset of the data set\n",
        "2. Fitting a model to the selected subset\n",
        "3. Determining the number of outliers\n",
        "4. Repeating steps 1-3 for a prescribed number of iterations"
      ],
      "metadata": {
        "id": "5FEKCQ67wStJ"
      }
    },
    {
      "cell_type": "markdown",
      "source": [
        "Example of Linear regressor vs RANSAC regressor:\n",
        "![sphx_glr_plot_ransac_001.png](data:image/png;base64,iVBORw0KGgoAAAANSUhEUgAAAoAAAAHgCAIAAAC6s0uzAAAAOXRFWHRTb2Z0d2FyZQBNYXRwbG90bGliIHZlcnNpb24zLjUuMiwgaHR0cHM6Ly9tYXRwbG90bGliLm9yZy8qNh9FAAAACXBIWXMAAA9hAAAPYQGoP6dpAABqAUlEQVR42uydB1gU19eHA0i3Rayxxr+JMcmnRowl9h6NmphobNFYsYAlGmMHCypWQOmgiKKACnaUIiBFqoiADUF6lyLS63dlZPayjQVZWOD3Pvv4LDOzs+Ws991z5pbPKgAAAADQ4HyGjwAAAACAgAEAAAAIGAAAAAAQMAAAAAABAwAAAAACBgAAACBgAAAAAEDAAAAAAAQMAAAAAAgYAAAAgIABAAAACBgAAAAAEDAAAAAAAQMAAAAAAgYAAAAgYAAAAABAwAAAAAAEDAAAAAAIGAAAAICAAQAAAAgYAAAAABAwAAAAAAEDAAAAAAIGAAAAIGAAAAAAQMAAAAAABAwAAAAACBgAAACAgAEAAAAIGAAAAAAQMAAAAAABAwAAAAACBgAAACBgAAAAAEDAAAAAAAQMAAAAAAgYAAAAgIABAAAACBgAAAAAEDAAAAAAAQMAAAAAAgYAAAAgYAAAAABAwAAAAAAEDAAAAAAIGAAAAICAAQAAAAgYAAAAABAwAAAAAAEDAAAAAAIGAAAAIGAAAAAAQMAAAAAABAwAAAAACBgAAACAgAEAAAAIuAVQVlYWHx+fnZ39DgAAQFOGtOSkPSetOgTcNCDR+gwAAEBzgbTqEHDTgPxiYgKGH48AANCkYRIq0qpDwE0DEjMSMPIvrj0AAADacwgYAQMAAAABI2AAAADQnkPACBgAAAAIGAEDAACA9hwChoABAAAChoARMAAAAGjPIWAIGAAA0J5DwAgYAAAAtOcQMAQMAABozyFgBAwAAAAEjIABAABAew4BI2AAANDkKCgqfx5fjPYcAoaAAQCg4YhLL9l9KWutSQa5g/YcAoaAAQBA7JSXl3uEFxD1rjL8cNO+mk22oD2HgCFgAAAQI/lF5aZO7xn1ktuBK9mp2aVozyFgCBgAAMRIbFrJLuss1r6XPXOLS8vF/aQQMAQMAAAtl/LycvcwTtl5g3lmUGQR2nMIGAIGAAAxkl9UbnKfU3Y+eCU7TcxlZwgYAgYAgJZObFrJzoucsrONV0OUnSFgCBgAAFou5eXlbmEFa405ZefHUUUN/zIgYAgYAABaEHmFZcb3c9jEV/tqdtq70kZ5JRAwBAwAAC2FmNRqZWdbr9yShi07Q8AQMAAAtCzKy8sfhHLKzhstMoMbo+wMAYsFIyOj//u//2tTyYgRIxwdHdmoa2lpdevWTUFBYdy4ceHh4exDCgsLNTQ0VFRUlJSUZs2aFR8fDwEDAEC9k1dYZnSPU3Y+dC07vZHKzhCwWLh169bdu3dfVbJr1y5ZWVnGtTo6OkTJ9vb2YWFh8+fPJybOyclhHrJ27dru3bu7uLgEBwdPmDBh0KBBpaWlEDAAANQj0aklO6iy8xXvvEYsO0PADcHnn39uYWFB0t+uXbsSB7Mpb7t27UxMTMj97OxsImlbW1tmV2JiorS09P379yFgAACoF0gL7Pq0YA1Vdn7ypkhyXh4EXP+QLNbGxkZOTu7Zs2dRUVHk8yUJLrt39uzZS5cuJXcePHhAdmVmZrK7Bg4cqKmpCQEDAMCnk1tQZujIKTsfvpb9NqdUol4hBFyfhIaGKisry8jIkDT37t27ZIuPjw/5fEl2yx6zevXqqVOnkjuXLl0ikqYfPmXKFDU1Nd7Tkrz5XRXx8fEQMAAACOdNSsn2C1TZ2UdSys4QsLgoKip6/fp1YGDgjh07OnbsSDJgRsBJSUnsMatWrZo2bRpfAU+ePHnNmjW8p9XS0vqsOhAwAADwpby83CWEU3beZJEZEl0kmS8VAhYXkyZNIulsvZSgkQEDAIAo5BaUGVBl5yPX3kla2RkCbggmTpz4999/M52wjh49yqbIXJ2w7OzsmF0kS0YnLAAAqDNR1cvOVx9JYtkZAhYLO3fu9PT0jI6ODg0N3bVrF7Gps7NzReUwJCJdBweHsLCwhQsXcg1D6tGjh6urK0mRibAxDAkAAOoASXWcnuSzZefNZzNDY4ok/2VDwPXGihUrevfuLScn16lTp0mTJjH2raiaiIPkwfLy8mPHjiUaZh9SUFCgoaHRoUMHRUXFmTNnxsXFtYSAAQBAPZJbUHbmLqfsrGP/LkOCy84QcBMGAgYAAJbI5OL/rDhlZ3uJLztDwBAwAAA0bcrKy+8HN72yMwQMAQMAQBPmfUHZ6TtU2dnhXcb7MrTnEDACBgAAYuR1UvWys29eaVl5U3wjEDACBgAATQOm7KxmxCk7h8UWNd23AwEjYAAA0ATIyS/Tv80pOx+7/i6zCZadIWAEDAAAmhKvk4q3nf9Ydl5tmHHdr6mWnSFgBAwAAJoGZeXljo85Zed/zmWGxxajPYeAETAAABAjOflletXLzlm5Zc3m3UHACBgAAEgirxKL/z2fyZadb/g3h7IzBIyAAQCA5FJWXn43qFrZ+VlccfN7mxAwAgYAABJETn6Z7i1O2fn4jWZVdoaAETAAAJBEuMrON/3zyppX2RkCRsAAAECyKCsvvxOYv7qq7LzlXObz+OLm/ZYhYAQMAAAau2XLKzt18x1bdj5x4112Xlnzf9cQMAIGAACNyMuE4q2WnLLzrYD8Zlx2hoARMAAAaHyIaG9TZWei4RcJxS3n7UPACBgAADRGa5ZXdpIqO5P771pA2RkCRsAAAKAxeUGXnY0ySB7cQsrOEDACBgAAjQMR7a2AamXnly2p7AwBI2AAANAIZOeVnbjBKTufanllZwgYAQMAgIbmeXzxlnOcsvOdoPyy8vKW/IFAwAgYAACIl7Ky8hv+eaurEt9/z2e+SizGxwIBI2AAACBGsnLLjlNlZ91bOTn5ZfhYIGAEDAAAxMizuOJ/qsrOakYZjo9betkZAkbAAABAvPCWnSOSUHaGgBEwAAAQJx/Kztc5ZWe92yg7Q8AIGAAAiJnwWJSdIWAEDAAAGpDSsnIHP07Zedv5LJSdIWAEDAAAxEvm+7KjDpyysz7KzhAwAgYAAOImLLZo81lO2fl+MMrOEDACBgAA9c37opTEnADyb0Vl2dneN49NfP+zynqNsjMEjIABAEC98yL9uvnjoWaPh5B/A2Lv6lBl59N3ct4XoOwMASNgAAAghtyXsS+5HXNds9b0DaPeNcYZTk/yy1F2hoARMAAAqHf1JuYERGY4EfWaBP6497ohXXaOTC7BRwQBI2AAAFDPsGVns8eqZx79vNnKkzO38+30XJSdIWAEDAAAxJH7UmXntWtMo6uWFEy19g5A2RkCRsAAAEAsJOYEMGXnPQ5GqzhzO6eEx6fiw4GAETAAABBjBmzwaDpddta7g7Iz2nMIGAAAxExIdJGGeUpV2Tnlko8/ys5ozyFgAAAQV9abmBOQXZByxTuPLjs/S0DZGe05BAwAAOKB6fNc2dvZi7WvoWNOXiHKzmjPIWAIGAAgttyX2Peoi/oak+iqSTbeuj4tQNkZ7TkEDAEDAMRIbFbAHgdTNvFVtwgPiH6KjwXtOQQMAQMAxEj6u9IDV9JZ+26zuW7sP45ZdAGgPYeAIWAAgFgIjiraaJFZ1ds5+eDdfWZBQ1+kX8cng/YcAoaAAQB1hF5AkJeS0nIbr1w28d15Met5Ijk+ELkv2vOmIeDDhw8PHTq0devWnTp1+vXXX1++fMnuKi8v19LS6tatm4KCwrhx48LDw9ldhYWFGhoaKioqSkpKs2bNio+Ph4ABAPULvYAgb0ab9q5U+2o2a1/j++/R2zkgIEFN7VZJiXg/Bwi43pg2bZqlpSWRa0hIyC+//NKrV6/c3Fxml46OTps2bezt7cPCwubPn09MnJOTw+xau3Zt9+7dXVxcgoODJ0yYMGjQoNLSUggYAFBfyS49kzPj4NTccPaAx1FFG8w/lp3XGme4hbX03s5+fvHTp1t/9tk+crt4Uby9zyBgsZCWlkY+1ocPHzLpb9euXYmD2ZS3Xbt2JiYm5H52drasrKytrS2zKzExUVpa+v79+xAwAKC+kl1mJufqN1Xyr2ngSEPnUM6SgheSXyS26IKzj0/c1KkXGfUyt0mTrCDgpifg169fk4+V5LvkflRUFLlPElx27+zZs5cuXUruPHjwgOzKzMxkdw0cOFBTUxMCBgDULfflSnbJFq6NzO20z4yN53059rW1N/YfzbdA3RJ4+DCGuJZWb69eusbGgYWF4l3kGAKuf0jKO2vWrNGjR1f9qvIhHzHJbtkDVq9ePXXqVHLn0qVLcnJy9GOnTJmipqbGdUKSNL+rIj4+HgIGAPCFN9lNzAmsqLaa74ebjvPGNSZxVZNspGs7apkGVXN2C/m4SFvt5vZm/PjztHr79NEzN39cVFTaAC8AAq5/1q9f37t3b7Y7FSPgpKQk9oBVq1ZNmzaNr4AnT568Zs0arhNqaWl9Vh0IGAAgYgbM7ErNDTd7rGoSOHzXtbNs4qtx9qlPpCdfZzd79bq4RI0Zc45W7//+p3/uXHBxcWmDvQwIuJ7R0NDo0aPHmzdv2C2fXoJGBgwAEBFBHZ5Jcnza5xe67Lzd9lpI0i0hzm6u6r1///VPP52l1fvVV6etrELE3ecZAhZvXNXV1b/44ouIiAiu7V27dj169CjzZ1FREVcnLDs7O2YXyZLRCQsA8Ol5MO8QXq8XqWzZebVRsrbj3pT34cKd3fzUe/duxPDh5rR6v/nGwNr6aWlp4wy7goDrjXXr1hGzenh4JFeRn5/P7NLR0SG7HBwcwsLCFi5cyDUMiWTMrq6uJEWeOHEihiEBAOqX4pJy64e5VNk5RM9zrnu0Zo3Obk7qvXXr5dChZrR6v/vO0NY2rLHUCwHX9+vgwdLSkg2/lpYWyYPl5eXHjh3L9I5mKCgo0NDQ6NChg6Ki4syZM+Pi4pp9wAAADcabtJS9NklU2fmKccColtPZqqys3MHh+Q8/mNDq/b//M7p69RnZ1egvDwJuYkDAAAARuf7YW41Tdk7Svreb7e3c7DtbEb8Syw4caEyrd/BgE+JjSVAvBAwBAwAkGuETOAs5prik/NyDNKrs/ETP8w+6q3MzzoBLS8tsbcO++86QVq+qqunNmy8lbZIvCBgCBgBIIqL0jaIG+Kr6xusyTk3OKt1ny5nbebudnXHAT1wzYTXLzlZEvZcuhQ4YYECrd9gw8zt3Xknm/JoQMAQMAJDE3LfG0UFkCzOpJG1Wh8fe6mYZbNn50L2ddNmZnIf1dHOipKTswoWQr78+Q6t35EiL+/dfS/LU1hAwBAwAkDgEzWlFQ1RKH2ASOGLnVSs28d1xMfnBSwc2hw5JtmqW/ZyLi0vPnQv+3//0afWOHn3OxSVK8leVgIAhYABA08uAudJffe/ZGywDOPa1s60sO6sGJBg21/FFRUWl5uaPv/xSj1bvuHGWbm5vmsqCThAwBAwAkESEXwOmU+TDTlvVjOMZ9aoZJx66t4POjEnu28w+mcLCEhOTwN69dblWLvLwiEZ7DgEjYACA+smDefNXpttzam44EXNl2fkip7fzuWDHZ+d4Fh8c0mwy4IKCEkPDgJ49T9HqnTr1ord3LNpzCBgBAwA0UFp8I0x3g2Uga1+D+zFvc1MqS9PcAo7McG7qbzw/v/j0ab/u3U/S6p0+3drXNx7tOQSMgAEAxJ4QsxeGD9/fpmacwKh3nUnag7BU9jDPGO3mJOC8vGJdXd+uXU/Q6p0583JAQALacwgYAQMA1L9ruabXIPcDE4yITY0DRu68Ys0mvhvOPdb3+o2+TswzPEm1iZagc3OLjh/36dz5OK3e336zffw4Ce05BIyAAQDqH97uV+Rfxqn63r9tOBfE6e185RLxMW9PafdoTVbAXOsuNI3fH++LdHS8OnY8Rqv3jz/snjxJRnsOASNgAACxkJobTuevRKvslsP3/2PLzmrGiRce3eQ7VrhJL/H77l3hoUOeKipHWe9KSe3788+roaHNcCQVBIyAAQAkKPflmdxqyNMUa+OAn0iyS5Wdg/zeeAoSrSiTeEggWVkFBw54fP65Dq3ehQuvPXuWhvYcAkbAAAD1DH2tlyv3ZbUaGOO/4dxj1r47r14kPmYewnescJPLgDMz87W03Nu1O8KqV1p6/5IlDi9epKM9h4ARMACAWPJdVp+VV21VeUcQHbq3Q804sarsnHD4/jaupRT4jhUWZSEHSeDt27w9ex60bctRr4zM/mXLbkREvEV7DgEjYAAAseS7XHkq7+1D2dnOhk18d19O8Y9+GJnhLGI6y1fMkkN6et6OHS6tWx9m1duq1YGVK29GRmagPYeAETAAgLjyXXKf90otfdPzmqNxLpgqO1vFZAY1j88hNTV32zZnZeVDrHplZQ+oqd2Kjs5qaV8JCBgBAwA0RO7LdV2WmUuSV72mQUMO3dtJlZ3jDzttbbpjeWmSk99v2XJfUVGbVa+c3MF16+7Exma3zG8FBIyAAQDEDt+eyWxOzF79NQ74abudLZv4brQM0PeeRbb7xus27befmLNp0z0FBY565eUPamjcjY9v0U0ZBIyAAQAaIQNmrwQTE8dkeRIH63n9rnH2CV12NgkcweiZpMtN9I0Txaqr3yW6ZdVLNLx58z2iZHwrIGAEDADQEAjqmfxh7G/Q0EP3dq02SmLLzoYeelyDkSS5MzNfYmOz1669LSfHUa+iovbWrU7Jye/xZYCAETAAQIMmwZEZTlzdmMl9k4DR2+3sqLKz/+nKsjPvgOCmchk4Ojpr9epbsrIHWPUqKx/67z/n1NRcfA0gYAQMACAR6e/j2BC67LzrmqVJ4HBBXaMlf0KryMiMFStutGrFUW/r1od37nRNT8/DdwACRsAAAI2Q+/J2gU54F+D8NHWdyduPZWeTuCPOm4UMTJLwDDgi4u3ff1+XkdnPqrdt2yN79jzIyMjHFwACRsAAAOK1LNcCgiy8XaCNA0b9Z3uVKjv7nfaZyXcmLNa+IclWgs7fyMn9i/S//nKQluaot317nX373DMzoV4IGAEDAIhbQkKnfuTKgPU856qffcra97x7Wmbex1mreJdCisnyJLuIfSVwaslnz9IWLrwmJcVZMfDzz3UOHnyYnV2ArwQEjIABABoi9xU8xCiAXjXBNGiItuPe1UbJjHrXmMTpOG+KzHAW7nIJXFwhNDRl3rwrtHpVVI4ePuz57l0hvg8QMAIGAGgghE+ywXo0/X2K3p1YTtn5vO9pn1/IAVwCruCZxlmilhd88iT599/tWO+SW6dOx44e9X7/vgjfBAgYAQMANHIGzDXN5AcHJ6bsss7irKxgb1HV27nmOSYlJAMOCkr89VcbWr1duhw/ccInNxfqhYARMABAIyFkoQXToCEH72quNU5n1Kth/tbG3762F3Qbd3lBf/+EmTMv0+rt1u2Enp5vXl4xQg8BI2AAgIbLd/n2RqbrxmxfKiP/0f/Z2HOG+V6KOvOht/OHxNczRjsyw0n0XLZRlhf09Y3/+WdrWr3du588c8Y/Px/qRXsOAQMAGtC7gnojs1Ym6nWJ2s7YV9fzT3WLUKrsbM47yYbEzjHp7R07ZcoFWr09e54yMgooLCzBlwHtOQQMAGggqGWL+MyMwbu3suy8j+rtHKvjsqGpzLDh4RE9caIVrd7evXVNTYOgXrTnEDAEDEBD5758F+5leiOTvVwTaBj5j95mc52T+F6OOuMzQ8gUVxIyx2R5efmDB2/GjbOk1fvll3oWFo+LikrxNUB7DgFDwAA0NLyjgKpuHzow+8br0ht1H85Xtwhj7bvH3izqrZdw+zZ6BkzU6+wcOXr0OVq9/fqdtrR8UlwM9aI9h4AhYAAaLwMWMEmkakiyVfWy836q7Bxz1GUDV49o9uYde0wSZrYi6r137/XIkRa0evv3P3Px4tOSkjKEHu05BAwBA9AI0mW7OgsW8BB2u5H/mG02N9jEd5OVt+2TbUIe/jTFOjU3vOF7NdPqvXPn1bBh5rR6BwwwuHw5tLQU6kV7DgFDwAA0hnorq8qMMlUFpbD07dTDBeoW4Zyys4OJ8+s9tFnpRJmWd0CCYaOo9+bNl6qqprR6v/vO0M4uHOpFew4BQ8AANA5EtzzZqirXtFZcvZ0P3Dm42iilquwcfdRFne/4Inb8EtfNOWpbg727srJye/vngweb0OodOND42rVnZBeij/YcAoaAAWi03JevIyMznN2jNXm3G/mP3Xb5JlV29jrz6Ge+vauYgjYR+dMUa97zkO0NoN4rV8L/7/+MaPX+8IPJ9esvoF605xAwBAxAIyOo1OwTe4Jf2Xnh+mplZyOTwB/5ji+iZ5GsrEVzXw8OTbEW35sqLS2zsQn79ltDWr1Dh5rduvWyvBzqRXsOAUPAAEhGBiy4s5XgsrNp9DHXtYK6aPGuyuAde6xhMuCSkjJr66fffGNAq3f4cPO7dyOgXrTnEDAEDIAEwe8CMG/Zedy/l2+xie9mK88zj6YJPl41MsOJNyd2jtrG/ukerSkO9VpZhXz11WlavT/9dNbJKRLqRXsOAUPAAEhc+iuopxWn7OyxeL35c9a+ewWUnbmuH/NdSZBkvaGVI5Hq910UF5eePRvct68+rd4xY865ukZBvWjPIWAEDACJ0C3XikbCxxqZBg3Zf+fQaqNURr1rTd/wKzurPku7SufQjG4bZiXBoqJSM7OgPn30aPWOH3/e3T0a4UZ7DgEjYABIBHyNKCQDriw73+GUnS88NHg0lde+zKkEnVx8c24UFpYYGwf26qVLq3fSJKuHD2MQa7TnEDACBoAE5b58a8IVApY8OslVdr5uYBo0VPh8zg22cG9BQYmBgX+PHqdo9U6bdtHbOxaBRnvesgT88OHDmTNnduvWjXyg169zCk3l5eVaWlpku4KCwrhx48LDw6mfroUaGhoqKipKSkqzZs2Kj4+HgAEQK7yl5sgMZ7YiTU+DZRqkuv/2YarsHKXvsV1CVjTKzy/W1/f74ouTtHpnzLjk6xuPEEPALVHAjo6Ou3fvtre35xKwjo5OmzZtyPawsLD58+cTE+fk5DC71q5d2717dxcXl+Dg4AkTJgwaNKi0tBQCBkB8BCQY8pvPWZWdG5JJgg39xm29dJdNfP+54G7gO0USVjTKyys+depR164naPXOmnU5MDARwYWAW66AOS+IEjBJf7t27UoczKa87dq1MzExIfezs7NlZWVtbW0//jBPTJSWlr5//z4EDICYEDAn8xCesvNf681fUGXnM3zLzp4xhxpyRaP374uOHfPu3Pk4rd7ffrMNDk5CZCFgCJiPgKOiosifJMFl986ePXvp0qXkzoMHD8iuzMxMdtfAgQM1NfkMCiTafldFfHw8BAxAXQQmwjwblWVnnVWGaWzZ+dgDNcHrIKmyixKK9ZXn5BQeOeLVseMxWr1//GEXEpKMsELAELBAAfv4+JA/SXbL7l29evXUqVPJnUuXLsnJydEPnDJlipqaGu8JtbS0PqsOBAxAbalxUSNDv/FbL90TreysyjvcSDwNdKG29sMOHY6y3pWS2jd//tWwsFQEFAKGgEUScFISp0a0atWqadOm8RXw5MmT16xZgwwYAHGkv+GpV4SVnd2XrDN/WWXfdM0b+nzLzsyN91T13gMrK6tg/36P9u11WPVKS+9ftMj+2bM0RBMChoBFEnC9lKCbWcAAEJNiuebWYLdT6/vyLzvvu3WUKjtHHn+wqnqyW+14cjYhY5k+nYyMfE1Nt3btjtDqXbLE4eXLdEQZAoaAayFgphPW0aNHmT+Lioq4OmHZ2dkxu0iWjE5YANQNQbNN1Ti9s6HfhK3WVNn54gO67Mx3/SLGteKY3+rt27xdu1zbtDnMqldGZv+yZTciIt4ixBAwBCz0B/j7908qIR/oqVOnyJ3Y2A/D4XV0dIh0HRwcwsLCFi5cyDUMqUePHq6uriRFnjhxIoYhAVC33JdvPlpjr6uT7kvXmb2iys56bNnZJXIbM5kGz0lUxTHhRlpa7vbtLq1bc9TbqtWBlStvRkVlIr4QMARcM+7u7lxdpf7++++Kqok4SB4sLy8/duxYomH2IQUFBRoaGh06dFBUVJw5c2ZcXFxLCBgA9Qtv7yrmimxl5VlI2fk4p+xsFnncbSWz686r9fQaCYJOXl+kpLz/918nJaVDrHplZQ+oqd2Kjs5CZCFgCBgBA6DpZcBC0l9Dv4lbrJ2osrOrge9kQavziu9yb1JSzj//3FdU1GbVKyd3cN26O7Gx2Ygp2nMIGAEDoGlAX5ENSbYiaSvvQrzM7YT7snVmEVTZWZertzOvX+v9cm9CwrsNGxzl5Q+y6iX3yZb4ePy/hoAhYAQMAAnLcfn2cOY5JpDqM6XKr+x8gi07rzN7fcJtBd/5rQSd/NNz37i47PXr75BMl1WvgoL25s33EhNzEGUIGAJGwACQ3Oy2+gJ/H5dPYN1cU9nZmS07b7noYuA7SdAVYnHMqhETk7VmzW1Z2QOsepWUDm3d6pSc/B4hhoBbloA9PT0XL148YsSIhIQE8ueFCxe8vLwQMAAkMPflvQRbPc1VZSvPgQlG/MvObnTZOU3r5kkhk2zUezerN28yV6262aoVR73Kyof++885NTUX8YWAW5yAr127pqiouGrVKnl5+aioKLLF0NBw+vTpCBgAkgZvJ2TPmEOiLKhQVXYeqnXzFFV2jjjhtlz4Q+qxm9Xr1xnLl9+QkdnPqrdNm8O7drmmp+chsqCFCnjw4MFWVh8mT2/dujUj4CdPnnTp0gUBA0DyM2DR7WvoO3HLRRdO2dnamWxhdnnHHuNbrK6vblavXr1duvQ6rd62bY/s3euWkZGPmIIWLWCS/kZHR9MCJv+SbBgBA0ACoa8BCxnay1N2XlG97HyietlZNSDBgGt9hcgM50/PfZ8/T1u82F5amqPe9u119u1zz8yEegEEXFHRt29fFxcXWsAkIR4wYAACBoBkJsGRGU6MHUVZ0Leq7JzOKTu7L+N7oZc6m+qnJ77h4anz51+VkuKsGPj55zoHDz7Mzi5AEAEE/JGjR49+++23fn5+bdq08fLysra27tSp05kzZxAwACQNtr8V082qxhK0ge+kLRddqbKzk6HfRL7rCbIdpz99fNHTpylz516hF+tVUTl65IjXu3eFiCCAgLnZtWuXoqKiVCUKCgp79uxBwACQSPsOEbIwEdftuNvKdWav2bLzvlvHTYP4P6S+lk8IDk6aM8eWVm+nTseOHfN+/74I4QMQsEDy8vICAwP9/f3fv3+PgAEgaQgY1KsqqOyseUOPKju/OuH+tyBPR2Y4k/On5oY/TbnINfGk6AQGJs6ebUOrt0uX4ydPPsrNhXoBBCzy+79+/frz588RMAAkCt4BSMS+D6J28Ss7T/7n4gO27LzV+r6h3wTho4zcozXZLeR+rV6Yv3/CjBmXaPV263ZCT883P78YUQMQcA3MmzePueKbn5//9ddfy8rKtmrV6tq1awgYAI2b8tLzTXINQGKWCOTNgI8/WLXWLJIqOx8VVHZmi88k6+XaKGIe/OhR3LRpF2n1du9+8swZ/4KCEoQPQMAi0aVLl5CQEHLn0qVL/fr1y8vLMzIyGjx4MAIGQGPBjjUiivWM0Y7McCICpgcgBSQYcPm4suyszyk7m7886b5E6EViVUa0T1Mucu0KTbEW/vI8PWMmT75Aq7dnz1NGRgGFhVAvgIBrg4KCArPy7pIlS7Zv307uxMbGKisrI2AANFbuy69784ehQWwvZa6KtIHvlH8uuHHKzpccDf3GC++ixZaaa5UBu7tHT5hwnlZvnz56ZmZBRUWlCBxAe15rAX/11Vd2dna5ubmdOnV68OAB2UISYhUVFQQMgEaB3+Ve7lkh6R7Rxx+sXmvKKTvvv60jvOzMe7YarwGXl5e7ukaNHWtJq7dvX/2zZ4OLi6FegPa8rgI2NDRs1apV+/btBw0aVFZWRracPn16/PjxCBgAkpQBf5wug5mIg7n6W1l2Ps2WndebvzjpsUT0ySnpVRZI1huaYs2b+xL1OjlFjhp1llZvv36nz59/AvUCtOefKuCKD0MIAh0cHNgBSHfu3PH29kbAAGgsXqRf53vVlk58K8vO7lTZ+a6h3zjR7VvjKgtEvY6OEcOHm9Pq7d//zMWLT0tKyhAjgPa8fgSMgAEgaUmw8Hk2jj1QW2saRZWdD4tSdua6oixEvbduvRw61IxW77ffGtrYhJWWQr0A7Xn9Cbi0tNTCwmLhwoWTJk2aQIGAAdDA0mXGHZEbb89kurfz3usGbOJbWXb+q1aJr2+8rqDcl6j3+vUXP/xgQqv3+++NrlwJLysrR4wA2vN6FrC6urqysvKff/65adOmzRQIGAANpt7KdY1Uqya3EpjLGjyauvmCB2vffy/fqVXZOTTFWpB6iV+vXXs2aJAxrV7yp739c6gXoD0Xl4BVVFTu3r2LgAHQKMkupd4absdc16w1fcOod7VR6v47h0yDhnz6Rd/S0jI7u3CS5tLqHTLE9MaNFyQhRrAA2nMxCrhbt26vXr1CwABoGOhJNkR0p0ngj3uvG1Jl5+enPBbX5orvhxsxPa96L18OHTDAgFbv0KFmt2+/gnoB2vOGEPCJEyfWr1/fRP+/QcCgyeW+Na4hyHU782jaZitPqux828h/XG3tyy44yFBSUnbhQsjXX5+h1Tt8uLmjYwTUC9CeN5yAf/vtt3bt2n355ZczZ86cQ4GAAVDvCJpkQ3DZee0a02i27HzgjrboZedbL1eyU1eyfZ6Li0stLZ/063eaVu+oUWednSOhXoD2vKEFvEwACBgAjZgBmwT+uMfBiCo7PzvlsahW8o7McGanrmTUa2HxuG9ffVq9Y8daPnjwBuoFaM8bR8AIGAANCXUNWPSy8y0j/7HCHxKQYFD9ojKn5lxUVGpqGtS7ty6t3gkTznt4RCMcAO154ws4LS3Ny8vL29ub3EHAABArlRNaCeyBddR1/RoTtuyccuDOQVHKzr7xuvRySUzNubCwxMgooGfPU7R6p0y54OkZgygAtOeNL+Dc3Nzly5fLyMhIVdKqVasVK1bk5eUhYAB8ClwL+tLbBWXAlWVnE07Z2SL81MMFvIe5RG7ju1wSM66JqTkXFJScOePfvftJWr0//2z96FEcQgPQnkuKgNXU1Pr27evo6Piukrt37/7vf/9bu3YtAgZAneFNRlkql1LgW3b+eZOVF2vfbTY3jPzHCFmSwSVqO9/FFfLyinV1fbt1O0Gr95dfLvn7JyAuAO25ZAlYRUXF3d2d3uLm5taxY0cEDIA65750hsrMgMGsYuQZo82/7OyiXq3sfHe/oLIzO59G5XzR1banZMafOOHTpctxWr2zZ9sEBSUiKADtuSQKWFFR8fnz5/SW8PBwJSUlBAyAusE71sgz5pDg3s7DdtubsomvuoCyM+8iCpUrJn28kHzaa9hWTdNOnY7R6v39d7vg4CSEA0DAkivgiRMnzps3r6CggPkzPz+f/Dlp0iQEDIB6yYCF9Xb2mb7pvDdVdr4uqOzM3Lxjj7JzWDJPof9w2Bz1P5Xb7WK9KyW1b968K0+fpiAQAAKWdAGHhYV1795dRUWFmJh4l9whf5IkGAEDoM64R2vWaN+jLhprTGKqys7JB+/u4yk7q7pEbhO0opGex7Bf181XaltNvQsWXAsPT8XnDyDgpiFgJus1MzPbsmXLP//8Y25uTv5EwACobdYbmeFEbkx6Knye58qyszlVdg7VfTif75HhqVd4N+q6D5+1ZqFSG0q90lrzF1568SIdgQAQcBMTMAIGwKdAX44ldyoXOBJSdp6x6bwPa9//bByM/EcLuehLu1zXbfgvKxcqKO9m1Sstozly5kpHP1tEAaA9b5ICfvnypbq6OlOCJndevHiBgAEgeu4r+rpGOi4b1pjEUmVnTREm2fjg4JOuI6YvXySvtIdVr4zM/iXLbL2feAha4hcACFjSBXz16tVWrVqNGDHin0pGjhxJ/rxy5QoCBoAoiLi+gkng8N32Fpyy89lQXc95ojzwhMsItQ1mSsoHKfVqzlty+s2bTHz4AAJu2gL+8ssv9+7dS2/R1NQkGxEwAOorAz7tM2PjeV9O2dn2mrGwsvPH23GnkVP++ktOgZP1ysoeWLLy3LOI1/jYmw/F8RW5bh/+hYBb5jjg16+r/X+OiIggGxEwAEShcmJnoWVn501rTOLYsrO2Y81l52P3R05atERWfi+rXjm5g+rqd+PisvGBNyuyLCpeSFe8+OzDv+R+y5Z3SxTw9OnTz507R28hf06dOhUBA0BI1suMx03NDRdedt517SxVdn5aY9n5qONPE+YvbSXHUa+CgvbGjY4JCfiSN7uMlhzz0b7MTaZ2Kv1EeaM9lwQBGxsbd+rUSV1d/WIl5E7nzp3JxptVIGAAumWnvyB3eBb+E1R2/qV62fmqccAoIccfuTNq3Ny/W8ly1Csrv0dNwyopKQchaJ4ZLfE0x76Vt1z3Wmj+U+SN9lxCBCwlFGlpaQQMtGSqL98rcm9n583Vy867hZSdD98eNeb3ZTKtNDkFZ4U9U5f+ddL5J/RwbrT0tG4nr5UUP0WivPJ+d6XR3jja8zoLGL+YABCS+4ouXarsbMkmvhpnQ/Q85wo6+NDN0aN/XS4tw1GvvNKen5ctPuk6gncZJdCg6Wkd4JVi9hURXpLMR/vW6iVxy5vcpASeoV7euPgVDgFXZGVlQcAAMAifUoNf2XnmRks/1r7bba8IKjsfvD7mp1kraPUqKO+esXKxx7Nz7Jq++PwbMz2th6cQTXgfxObO/WJEsR1H3kLfVL288Qa53twSBayjo2Nr+3Eanblz50pJSX3xxRchISEQMED6W6v094jTP2qcsnOS9j3+ZecD9mNG/LJSSlqLVW/rtvv+3Wn3LPZRC5Vuw1RHP+WCq+jv4u0xHgfXXnii2y7bruY39elvvKGuN7fQccA+Pj7kjrOzc/v27Z2cnFauXDllypTGegOGhoZ9+vSRl5cfMmSIp6cnBAwaCxFn2PhYdr56nio7P9Hz/IP3sH1Xxw77eRWt3jbttPZo3c3KKmi5n3KDdeWtm0VE/HFAv4ukNdzCe3uqFsaq1esU5eBP16e4f7u0ZAErKCjExcWROxs3blRTUyN3Xr16RUzcKK+e5OKysrLm5ubPnz/ftGmTsrJybGwsBAwaLwOu2b763rM2WgZwys52dsYBP3Edo2U3buiU1VJSHPUqt9v1m/r8xPS4Fv0RN3BX3lpdcCWvJOVfkX4c5Adwv4sXUtzGIlveHheL7UR5U3W+0lwrzX9yGaMlCrhbt25MBvz1118zM1C+fPmyTZs2jfLqhw0btnbtWvbPb775ZseOHRAwaDDjMsONmD+do7aJUHbeqmYcz6hXzTjx0L2dXGXnvTbjh0xSY737oeDcfufvG/484zkcfazElVqxMuC1At8LrvyNJSVSJZnPkZ9VmluGx8GffShQ19p2n1Wk7qpBdaK8KRHfeN00X09ljJYoYHV19d69e0+ePFlFReX9+/dMGvrDDz80/EsvKiqSkZFxcHBgt5CkfOzYsVyHFRYWvqsiPj4eAgb1AjXc6MNyRjFZnjWVnUfsvGpVrezs9Tt9wG7rCYPHr6HV26bDzm37TFMy49HHSowZMEcGUlVqFGwFvnkbn75UAn4c8D9S5qP7UzX55MGivEGSK3Ob+7hIqqttGiri8cxhJNHnq/D6C2JLFHBxcfHx48eJ6oKDg5kturq65ubmDf/SExMTyafPpOMMhw4dInk512FaWlqfVQcCBp+Y+FYuu1uL/lb63rM3VCs729Bl510XJwwcu5ZWb1uVHX9unesbZYlPu3ap1acaXagVBMmMNy8XlL/yOZI61Ts7kSwuSmGAnJaRuhDVCXEzX9GKmLbWeFj9lTEwDKkxYQT86NEjdou2tnb//v2RAQOxJr61Hel7mLvsvIPdteP8xO9HraPV277TjgXb/jDw+ZBbkwwbia+ABMu9fq7+CnInrxUEyYz8+0GcUiJZnPsk0h/SxGp7pfh4tEY+XFTm9/qFqE6Im/kaVPgrr1V2iwz4EwV84cKFUaNGdevWLSYmhsmAb9y40fAvXcQSdDMLGGjc3LdW9q0sO1/klJ3PBet5zWF2bT836dsR62n1ft5l+75jVoaPhtJnSMwJxMcuXpeLmAHzlRmf8nVNuV3NF0elap4og3/Gya+sLUh1gtws6CF8fqnwe3kiZrf1VMZoiQI2MjLq2LEjyTUVFRWjoqLIFktLy/HjxzfKqx82bNi6devYPwcMGIBOWEB8RGY41abs/OsGy0DWvjuqys7bLCZ/M0ydVm+Hrv8t3jXH0HdoZIYzNY0lMuAGgSMDqSr3VFmBrsTymom3M3OGsUi5nZAMniNgqYrU3fwvuAp7VXyvAfNTHe8DmYK5IIPyTbJrTvEFZ7f1UcZoiQImkrt+/UNvzNatWzMCDgsLU1FRaZRXzwxDOnv27PPnzzdv3qysrMwk5RAwaFwBH76/Tc04oarsnHDo/nbToCFbTKZ8rapBq7dj921L9vxm5Pcxq07NDWf7dmFqyQbNgxkZ0FbgrcRyyUxgTlzX3I6/TaWr/RrgTNwhzf818Oad1d4dZXTurltCk2ZRn8it8rT1d5EeAuZCQUGBkRwr4IiICLKxsd6AoaFh79695eTkhgwZ8vDhw2YfMNBYkGRUFAEbB4zcecWaTXw3nAvS8/ztH+OpX/2wgVZvpx7b/tb6lVUvXXDG1JISoWRBV3xZQ4tyjEjud6tBcuTMH6zGr85MsuQ69yATlOzy/Q0hpP827/nJr4T6ukgPAfNmwMwVX1bA+vr6jTIMqWUGDDSYbukxviL2vdL3/o0Yl1N2vmK98cys/w3aSKu3S+9/lx+YbezPfTYUnCWI+rqWKXzcDpcUBV6Q/qw222X4Dzfi/a0gpFzM9zcE91TSQvQsI+pQJZSga/uAc+fOde/e3dbWVllZ2cbGRltbW0lJidyBgEGzgWuMb2puuCj2PXz/P7rsvO609pffV1Nv1z5bV2rPMgng81gUnJtGBsxfJEIu6Aodg8v7FHzWSxBiX55uX291+b+SWiW7NVjTnc8A37rMxoWJOOokYIKZmVmvXr2YBYB79Ohx9uzZhIQECBg0m9yX7gklyrK+xgE/7bhyiU18V58J+XbUQVq9X/xvy6rDM/mql7lFZjjjkxe7U2uVcol7OkYh/ZDJnQ/Xequenc+CDZ/x63ot9FdCrZLd2n6M9T4fNQRcI+np6ampqUlJSRoaGo14DRgCBvWL6GsqfCw7e/224dxj1r4/r3ORkdVm1du935Y1R38xCazhJCTJxicvRuqWcn1KT90ak8IaPcTdI4zfXJWcOSxr+pVQLyN/hHyMop8fE3HUTcBZWVmLFi3q2LFjt27d9PX1y8rKNDU1lZSUhg4devnyZQgYNPXEl7noyy8DFng7dG8HW3Zeppvc70cbVr09+/+z7vgMfupVDUww5tqI8b7izX0bcgkH0Z+0tos9cK+bJMPdc1t8vydq+4uhQcLRsgS8bt26Hj16bN269bvvvpOWlp4+ffqECRM8PDya0LuFgAFfuC76hiRbidDb+acddjZs4vv7rlftuugz6u09YLO67nS+i/uS24OoXSTfxXjfhqOhVseri19rpU/ukbvHm+rHiIk46iDgXr16ubi4kDtRUVFSUlKbNm1qcu8WAgZ8c1/RU17mpuc1R+NsMGvfUQsfysh+uOjb57tNG/R/FqRe2rju0ZoY79ucM+B6STol4WeEmD5GTMRRWwG3atUqMTGRua+oqBgWFgYBg2ZArS76ErkevLtzpUESo96lJ5P7ql4i6u07cOOmM9MY9RKnkjS3RgeTPBjjfRuI+l3CoaX9jJDUj7FlCVhaWjotLY2537p16zdv3kDAoEVlwGd8Rq04cZtNfOfsfNm2s16/wRs2G02tnvWqkgS3xrPhum9DC6xBZodo5v6TpI+xZQlYSkpqxowZcyoh2fDUqVPnUEDAoOlS4zwbRn6qS/epz9//ilN2XuDxzbDNW0ym1Fhw5juWCdd9QQv9GYH2vG4CXiYUBAw0iWQ3MsOJ3HjlR7b4xuvyatjQd+jiXXOGTLdeppvKlp1H/2n8r/nk2lw2ViWOxzzPAKA9r6OAETDQjNJcVVqBjJidXm+ppt5HQxdt/71jj93j//ZhE98FB8O3mv9Vqx5b5PYs7Sr7RLjuCwDacwgYtKzcV1ARmHfQEVHvgm1/tO+8vcMXZ+bujeQs6Gt62SRweG3tS54XxgUA7TkEDAG3UPh2dQ5PvRqQYFitm5X3j39unduu447PPtvX/6erbNl5tWH8EefNtVcvqs0AoD2HgCHglk3lggpCezh7/zh387y2Kh/UKyt/aPyyR2ziu9HS77TPzNqq1zPmEKrNAKA9h4Ah4JaLoN5V7O2014+/b/izdfudzDxWHbobzNPklJ13XTuHsjMAaM8hYAQM1Kd69R8O+019vnK7newEzt+MvrridAqj3jUmcTrOm1B2BgDtOQSMgIFaIHxor57HsNlrFyi13cWqV07p0Nxdbpyy83nf0z6/iJLp0pNKhiRboewMANpzCBgCbtG5r6DJrXTdh89UW6jYejerXilprfEL9641CWPtu9veQpSyMzOdZEXlBebQlItYUhAAtOcQMATc0uHb5/nUg+G/rFyooMxRr7SM5k+zVvxnfWi1UXJV2TlWx2Wj6HNrVFArKaHyDADacwgYAkYGXC0DPuk64udli+WV9tDqHf3r8oPXp/5nY88mvpvOPzrtM0PEC72RGc68T4QJJgFAew4BQ8AtyLUk361cWSiAlh9zDfiEy4ipS/+SV+SoV6aV5tg/lh2+PUrX8091i1Cq7Gxem97OHzs586baWGIBALTnEDAE3Pxhy7+83Y8jY99MWbxEVp6j3laye8fP+/vInVGVSwruq1523lCrfs6+8bp8U21kwACgPYeAIeAWkfvy62ml6hN+e72GvYLCAY565fZOnL/0qONPH9Y18h+9zeY6VXb2OSNy2ZmvZXENGAC05xAwBNyy4C3/EsVOmL+U6JZVr6z83kmLlhy7P/JjF+iH89Ut6N7OpiaBw2o7zJdNf+mfAhh9BADacwgYAm4pBCQYsFI8cmfUuD+WtZLlqFdOYc+Uv/467vRRvZVl5/1U2TnmqIu6KNd670VswBRXAKA9h4ARMMBJOpl5Ng7fHjVmzjKZVpqseuUV90z7e/EJlxGsNY38x2yzucEpO1t5n/GZLnpnq5BkKxSZAUB7DgFDwOADkRlO2jdGj/p1ubQMR70Kyrunr1h00nVEteG/DxeoW4Sz9t3jYFKrsjPTqxlFZgDQnkPAEDCouOdnO3LmCi71/rJqoa5btXFEpkFDDtw5uNqInds5WrSy8xD0agYA7TkEjICBarx4kb5g0SUpaS1WvUptds1as0DXnXsIr5H/2G2Xb1JlZ68zj37GmgoAoD2HgBEwUDuePUtbuPCalNQ+jnrb7vp13Xw9Dz715FMPF66vVnY2Mgn8sVb2jcxwRu4LANpzCBgBa9GEhqbMm3eFVq9yu51zNP7Uf8hHvdxlZ9PoY65ra9RtQIIBhvMCgPYcAkbAwEeePEn+/Xc71rvk1qnTsYOH75/24t+Lysh/3L+Xb7GJ72YrzzOPpom4olEFeloBgPYcAkbAQFBQ4q+/2tDq7dLl+IkTPrm5RRUC1vo95bF4vflz1r57RS47Y/ZmANCeQ8AIGKgICEiYOfMyrd5u3U7o6fnm5xezx5Ak1TNGmy47779zaLVRKqPetaZvRCk7o58zAGjPIWAEDHzA1zd++nRrWr1fdD+uffxK+ruECmrVI1q9VWXnO5yy84WHBo+mop8zAGjPIWAEDNSMt3fslCkXaPX26Hli2yEdQ98fGU26R2vyW3dhyEmusvN1A9OgoSKqF/2cAUB7DgEjYC2Xhw9jJk60otXbu7fu/pMWRn41eNQ0SHX/7cNU2Tnq2AM1UaaWROILANpzCBgBa7mUl5e7ub0ZN86SVm/fvvpnzwZn5ibyTXbpm6HfuK2X7rKJ7z8X3A18p9RtgC9T2UYqDADacwgYAWv+6nV2jhw9+hyt3n79Tp8//6S4uLSicpJn4QY96fHXevMXVNn5jIhlZ94+zxj7CwDacwgYAWsR6r137/XIkRa0evv3P3Px4tOSkjLWiLzji6qXnXVWGabVsuzMfzFBcodOtdEdGgC05xAwAtYM1Xvnzqthw8xp9Q4YYHDugldclj9tRCH2NfQbv/XSvVqVnYlT70asp86pSqe5iTkBGBAMANpzCBgBa7bqvXnzpaqqKa3e7783srMLf5bqwFX+5S0+O73e+rHs7L6EKjuna97Qr7HsHJpizaid/BuZ4czb5xkZMABozyFgBKwZUlZWbm//fPBgE1q9AwcaX7v2jOziSnYZ+XEN8CU3ssU1ave+W0epsnPk8QeralVqFgKuAQOA9hwCRsCalXqvXAn/v/8zotX7ww8mN268ILuYY3zjdXk7J/PWnw39Jmy1psvObqL1dlYV3aaY/xkAtOcQMALW5CktLbOxCfv2W0NavUOHmt2+/aq8vJx2Hq8yHydacPd2dl+6zuwVVXbWE623syq7uAIAAO05BIyANXNKSsqsrZ9+840Brd7hw80dHSNo9QpKf9kpMtjezvtuHeeUnc0ij7utrNtAIwAA2nMIuAa0tbVHjhypqKjYrl07rl2xsbEzZ85UUlJSUVHZsGFDUVERuys0NHTs2LEKCgpffPHF/v37edt6CLgB1GtlFfLVV6dp9f7001knp0i+4RDe1bmy7Dxxi7UTp+x80dXAd7Lo9kVfKgAgYAi4dmhqap46dWrLli1cAi4tLf3+++8nTJgQHBzs4uJCRKuhocF++l26dFmwYEFYWJi9vX2bNm1OnDgBATcYxcWlZ88G9+2rT6t3zJhzrq5RXOqlZ5viHfxD3064L1tnFkGVnXWFl50dni/m6syFvlQAQMAQcF2wtLTkErCjo6O0tHRiYiLzp42Njby8PPOJGxkZkYMLCwuZXUeOHCF6Fp4EQ8D1QlFRqZlZUJ8+erR6J0w47+4ezXswV0/jgARDQZNs7Lt1gi07rzN7fcJthYhXfBNzApl/kfsCAAFDwPUm4L179w4cOJD9MzMzk3zibm5u5P6SJUtmz57N7iIpMtn15s0bCFh8FBaWGBsH9uqlS6t38uQLnp4xfI/nHWsruOzszJadt1x0MfCdhCu+AAAIuDEFvHr16ilTptBb5OTkLl++TO6Q7WQvu51kySQYjx494nFG4bsq4uPjIeC6UVBQYmDg36PHKVq906Zd9PGJqxC8pIHwgvPHsrMbXXZO07p5UkjZOTjpLNcW9HkGAAKGgIWhpaX1mQACAwOFC3jq1Kn0FllZWRsbG0bAampq7PaEhARyNl9f3xqfGgKuFfn5xfr6fl98cZJW74wZl/z84pkDhExnwZUB85Sdh2rdPEWVnSNOuC0XXnDmnS0LGTAAEDAELIz09PQXAigoKBAi4E8vQSMDrjN5ecUnTz7q0uU4rd5Zsy4HBiYKUixvJ2Raz9XKzr4Tt1x04ZSdrZ3JFlGu+GL+SAAABFz/COqElZSUxPxpa2tLd8Jq3749OypJR0cHnbDqi/fvi44d8+7cuZp658yxDQ5O4jqSt8gcmeHMlKPZujQz21RMlifbY/mE24rqZecTIi4pSM6D+SMBABBwfRIbG/vkyZP9+/e3bt36SSXv37+vqBqGNGnSJJLgurq69ujRgx2GlJ2d3aVLl4ULF4aFhTk4OLRt2xbDkD6dnJzCI0e8OnY8Rqt37twrISHJ/FXNXWRW5Rrmy2iSXWewquyczik7uy8TfYwvc8UX80cCACDgeuPvv//mulLr7u7OuvmXX35RVFTs0KEDsS877qiiciKOMWPGkJy4a9eu+/btw0Qcn0J2doG29sMOHY6y3pWS2jd//tWwsFThD6xeZFblK07mjoHvpC0XXamys5OhH1fZWTUk2YrIlbezFUb6AgAgYASsuZGVVbB/v0f79jqseqWl9y9aZP/8eZqIZ2BSUt4eUvTtuNvKdWav2bLzvlvHTYM4tr73ejO9YqCg4cK47gsAgIARsOZARkb+3r1ubdseodW7ZInDy5fpdTiboGkmTYN+1LyhR5WdX51w/1uIU0kSjLG/AAAIGAFrnqSn5+3a5dqmzWFWvTIy+5cvv/H6dcannJbXnQa+k/+5+IAtO2+1vm/oN4HrGPKoqjQ6IDU3nJ/FVZEBAwAgYASsaZOWlrt9u4uy8iFWva1aHVi16mZUVOYnnpkxaECCIXtJ2NL35FqzSKrsfJQuO/Pt28zXvvQ5cQ0YAAABI2BNjJSU9//+66SkxFGvrOyBNWtuR0dnfYpxmXyU7opFMtq47EBrrxhO2dn85Un3JUL6NguZr4M9J3o+AwAgYASsiZGUlLN58z1FRW1WvXJyB9evvxMXl13nc9I5a0CCAZ25GvpOPXQtiVN2vuRo6Dde0Nwa5Dz8ZqxURd8rAAAEjIA1YRIS3m3Y4Cgvf5BVL7lPtsTHf9KHIGSOyWMP1NaacsrO+2/r8C07s7N2VPCbTovkxE9TrNH3CgAAASNgTQ+S3ZIcl2S6rHoVFLQ3bbqXmJjz6Sfnu8qCadDQvdfPsInvevMXJz2WCC8ss0kt7/xWNU5yCQCAgCFgBEyyiInJWrPmtqzsAVa9SkqHtm51Sk5+X19PwTviyMB3yj8X3Kmy811Dv3G80g1IMBCycgPXVV7MOtnCKS0tLQAtHvI1gIAh4CZAVFTmqlU3W7XiqFdZ+dD27S6pqbn1/lz0iKPKsnMUo97VRqn7bx8WVHaubXcqzDrZMikvL09KSnoOQCXky8A70SEEDAFLCq9fZyxffkNGZj+r3jZtDu/a5Zqenid6Ust3TV9Bh1VO78yUnQ2ql50X1zilM4QKhMPY9+3bt/n5+UgBWzLkC0C+BoyDIWAIWOJ49ert0qXXafW2bXtk7163jIx80U8iYrGX6vlcWXZ+NHXzBQ/Wvv9evmPkP07ERY3gGCCk8szYFx8FYGAczFWLhoAh4Mbk+fO0RYvspaU56m3fXmffPvesrIJanUfE7k5chx1zXbvW9A1bdtZ3sUl5H07MmpobHp56FVNZgTpD8h7S2pLUBx8FYCBfBvKVoBePh4Ah4EYjLCx1/vyrUlKcFQM7dDiqrf0wO7ugDmfj7dLMZKjVF/QNYNdaMAn8ca+DEVV2fn6qsuzMzCjJ4B6tyZ6N3Ed3KlBbAXO1tgBfCQgYAm5knj5NmTv3Cr1Yr4rK0SNHvHJyCkXJdPle5eU7DNc3XrcqbVWl7gw582jaZitPqux8myo7q9InJycJTbFmVvCtQHcqAAEDCBgCbqIBCw5OmjPHllZvp07Hjh3zfv++SJSHC89B6b2VySv/PsxHXdetMY2uKjunHLijbRqEi7ugpQuYtCrXr3/4PxUdHU3uP3nyBEGEgCHgZiLgwMDE2bNtaPV26XL85MlHublFIp5BlKu8TIYqaFpmk8Af99BlZ4vwUw8XonszaPYC/vvvv3/99VcRBVxaWpqcnFxSUoIgQsAQcJMXsL9/wowZl2j1dut2Qk/PNz+/uFbnEXSVV5QjecvO2y7fNPIfy9vNir4GDEALFHAdKCoqQsQhYAhYsnj0KG7atIu0ert3P2lg4F9QUJcf16JP68g7yfNR1/VrTOiy8wG67ByQYFA5I4cqOliB5i3gcePGbdiwYdu2bZ9//nmXLl20tLR4BcxVgn727Nn06dOVlZU7d+78119/paenM9vJqdTV1f/55x8VFZWxY8eSLeRsPXv2lJOT69atG3kWfAcgYAi4cfD0jJk8+QKt3l69dI2NAwsLP6muJXo/ZPZIk8BhexxMq5edF/AbX4QhRkBSBCzifDJ1E3Dbtm337dsXERFhZWUlJSXl7OwsRMBJSUkdO3bcuXPnixcvgoODp0yZMmHCBFbArVu3Ji5/+fIl2Xv16lVyZkdHx9jYWH9/fzMzM3wHIGAIuKFxd4+eMOE8rd4+ffTMzIKKikrr5fwi9kMmB0RmOLm9Pr/JyptTdra5YeQ/BpNsAEkWsDhGu9ECHj16NLv9xx9/3L59uxAB7927d+rUqezx8fHxZNerV6+YUw0ePJjddfLkya+//rq4uBihh4Ah4IamvLzc1TVq7FhLWr19++qfPRtcXFzawC+GacKOuqivMYmpKjsnH7i7n6u3M6aZBJImYDEtn0ULeP369ez22bNnL1++XIiAZ8yYISsrq0xBdpE0lznVqlWr2FPFxcX17NmzR48eZKODgwP6cEHAEHADqdfJKXLUqLO0er/66rSVVUhJSZlYn5pJc8mNbqTIfdPAEbvtOWVndYsw3YfzRVEvrgGDxhWw6D0N6yzgTZs2sdvJRrJLiIB//vnn33///XV1cnNzeU9VUTnT082bNzds2NC1a9eRI0ciG4aAIWDxqtfRMWL4cHNavf37n7G2fipu9TJpLnXhVpW1ZnhS8KbzdNn5enCig0/scVHsG5pijdwXNO8MuFYC3rVrV//+/fmms7wCZnn58iU5w+PHj/E1gIAhYLGo99atl0OHmtHq/fZbQxubsNLSsgZ4AZVL+fKpGwdHFW0wf8uWnQ/e3Se07Mw9UwfGIIHGFXCF+K8B10rAiYmJnTp1mjt3rr+/f1RUlJOT0/Lly5nlBLhOZWlpaWFhERYWRg7bvXu3oqIiFqKAgCHg+lfv9esvfvjBhFbv998bXbkSXlZW3mAvo3KOSa5JNoaZuDynys6hup5/Cioys61bQIIBrv4CiRJwhRhmPK2zgAkRERFz5sxp3749ceo333yzefNmZlFbrlORxw4fPrxt27bKysojRoxwdXXFdwAChoDrDeLXa9eeDRpkTKuX/Glv/7wh1VuV/lZLXk/7zNh0/hFrX907sUb+owUlvpEZzmzrJqZLbgBgLmgAAUPA9UBpaZmdXThJc2n1DhlievPmS+a3cAPDZU0dl41rTGLZsvP9J2k5hSl8p6LkzXHFdMkNAAgYQMAQ8Keq9/Ll0AEDDGj1/vij2Z07rxpFvVzWNAkcvtveglN2Phuq6zmPSWHZC2nVc2VV4Us4oP8zgIABBAwBN7KAS0rKLl582r//GVq9I0ZY3Lv3unHVy8wQREx5xmfmxvO+rH3/s71m7D+aTmHZC2mVo5WcyU3I1JVYZBBAwAAChoAbWcBEvZaWT/r1O02rd9Sos87OkY2oXq5U9Wawl4YZp7eztuNeprczujEDCBhAwBBw0xNwcXGphcXjvn31afWOG2fp5vamcdVbUb3svOvaOc4wX6t4vY+9neuykFG9T7oLAAQMIGAIuBYUFZWamgb17q1Lq3fiRCsPj+gGtqwgHTIdr05XLztvt732NOlWnQvIuPoLIGAAAUPAjSbgwsISI6OAnj1P0eqdMuWCl1dsA78v4TokftVx3qJmEldVdk7SdtxtGlT3fsvo/wwgYAABQ8CNI+CCgpIzZ/y7dz9Jq3f6dOtHj+Ia/k0J12FxSbm1Ry6b+GqcDdHznPuJI3cxAhhAwAAChoAbWsB5ecW6ur7dup2g1Ttz5mV//4TGelNCdJiSVbrfLpu176HrvsYBoz49c0UGDCBgAAFDwA0q4OjorC5djtPq/fVXm6CgxMZ9U1yTW7E6DIgo1DD7qN51JhkuoalmQUPra/ZmXAMGEHCtYKe0rBC6GAOAgCFg/pSXl7MzOf/+u92TJ8mS8KZ4lzYqKim/4M4pO++5lBX/tqTe68YYAQxaiIDj4uJWrFjRrVs3WVnZXr16bdy4scbFErgmheYScEZGRk5ODgINAUPAtePGjRfz5l0JDZUU63BVg4mAH8f67bmcxNrXwuV9QXF5BerGAAKuE1FRUZ07dx49erSHh0dsbKyjo+N333331VdfEYnWWcC1pbS0tKysDF8JCLilC1jS4MprjzhtVTOOZ9S71iTN63khPQoZdWMAAdeWn3/+uUePHvn5+eyW5ORkJSWltWvXVlDrIDG0a9fO0tKS2c4ybty4CsEl6KKiom3btn3xxRfknMOGDXN3d2e2k/OQs92+fXvAgAEyMjJv3rwhu3788UdyGNn+008/xcTEQMAQMATc0CkvPd6XmmRjxM6rVpzezueC9b3+4M1xUTcGzVzAxfEVuW4f/q0PSJorJSV1+PBhru2rV6/+/PPPya9bQQIOCAggu1xdXYmtmVxZkIAXLVpEbOrp6RkZGXn8+HF5efmIiAhGwLKysmSXj4/Py5cvs7Ozycn//fdfchj5cM6fP0/ScQgYAoaAGw6+KSy5c9r7tw2WAax9d9jZGAf8hNFBoMUJOMui4oV0xYvPPvxL7n8yfn5+XIplOHXqFNmempoqSMDCS9CsgIlNieATEzkdOSdNmrRz505GwOQMISEh7E8B8qeHhwe+EhAwBNw4uS/fi7i+rwrXmqQw6lUzTjx0bwfXAZgzErQIAZOs96N9mZvMp+fBggR88uRJsj0tLe0TBXzlyhVymDJFq1at/vzzT0bAcnJy9CWkZcuWkfx45syZenp6SUlJ+EpAwBBww8HbjTkmM8jKjdPbecO5x3pec1j7MikyrvuCliLgXDfKvpW3XPdPfCVv374lGeqhQ4e4trMlaLLXwcGB3a6kpFQrAdva2srIyLx8+fI1RXJyckXVNWCu5w0ODj58+PDIkSNbt27t6+sLAUPAEHDjZMCnvefsvfyWU3a+cokpO5NbaIo1m/ui5zNABvwpTJ06tXv37oI6YXXu3NnQ0JDZHhERQZoXRsCJiYnkflBQkHABv3r1ihzm6enJ+7x8BcwyYsSIDRs2QMAQMATccLDp7OH729eZplVNspF26P4OvpbFnJGgBQm4grkGLPPRvvVxDZjRaseOHceMGfPw4cO4uLh79+59//337DCkBQsWDBgw4PHjx4GBgRMnTpSVlWUEXFJSoqioqK2tnZKSkp2dXSG4E9bixYv79Oljb2//5s2bgIAAHR2du3fv8gqY7N2xY8ejR49iYmKcnJw6dOhgZGQEAUPAEHCDkpGXYng/mi4763v9VjkRhypvnRkZMGhZAmby4Fz3+uoFzUCct2zZsq5duxK/9uzZk6Se7EQcJNMlKbKysjJRsqOjI3sNmGBubk4OlpaWFj4Mqbi4WFNTkziYnJw8xZw5c0JDQ3kFTET+22+/devWTU5Ornfv3uQhLWpkMAQsRqKjo1esWEG+ggoKCn379iXfraKiInZvbGzszJkzlZSUVFRUyFef3kW+qWPHjiWP+uKLL/bv31/jyrtNPWCJGaWaNpy5nXd+KDuPZOUameHM61dcAwYtS8AAAoaAa8W9e/fID0wnJ6eoqKibN2927tx569atzK7S0tLvv/9+woQJwcHBLi4uRLQaGhrsp9+lS5cFCxaEhYXZ29u3adPmxIkTzVjAPi8K15t+VK+6aYZjyHMRy8sY+wsgYAABQ8AicezYsS+//JK57+joKC0tzY6Ts7GxkZeXZz5xIyOjdu3aFRYWMruOHDlC9Cw8CW6iASssLj/34D2b+O66lBSZmoLyMoCAAQQMAdczu3fvVlVVZe7v3bt34MCB7K7MzEzyibu5uZH7S5YsmT17NruLpMhk15s3b5qZgBMySvZepsrOV62NA0YS3YYkW/nG66K8DCBgAAFDwPVDZGRk27Ztzc3NmT9Xr149ZcoU+gA5ObnLly+TO2Q72ctuZ/r9P3r0iDt9LCx8V0V8fHzTCpg3VXZeb/r2iNM2rrKz2WNVomHkvgACBhAwBMwfLS2tzwQQGBhIS7Rfv34rV65ktxDFTp06lT6VrKysjY0NI2A1NTVOppiQQM7GOzid96mbRMAKi8vPunLKzlo22U/jn/DYF8VnAAEDCBgCFkp6evoLAbCfKbHv119/vWTJErp7/aeXoJtiBpzwtmTv5SzWvhfcc4tKynlWHsToXgABAwgYAv505SQkfPXVVwsWLCgtLaW3M52w2IlPbW1t6U5Y7du3Z0cl6ejoNPVOWESxCe8CXENTOb2dzTL8IgrZA9gxRciAAQQMIGAIuB5gKs8TJ04kGk6ugtnFDEOaNGkSSXBdXV179OjBDkPKzs7u0qXLwoULw8LCHBwc2rZt26SHIRG5mgSM3m5nyya++2yzk7NKeSVN8t2QZCt0vwIQMICAIeBPhVl4iwt2b2xs7C+//KKoqNihQwdiX3bcUUXlRBxjxowhOXHXrl337dvXdCfiIFrV95qrcfYJa99zD9KKS8qFPwSjewEEDCBgCLhpIJkBI78bbj1+sdoo6eOSgiZxR5z+wWVdgNZWoptOfssUAggYApYIAde4Ci9zQPr7FDNnTm/njZb+p71n4bIuQGsrIQKm53CmSU5OpqtxAAKGgCVFwDXOwMwcoOf5h8bZEM4UV9csTQKH47IuQGsr+QJuAMrLy0tKSoQcUFxcLO6nqF/q/IIhYAi4Frmv8EkiyZ9mQUO1HfewZWd1s7cBrwtxWReApiJgtgQdHR1N7tvb248fP15RUXHgwIH0dEA+Pj5jxoxRUFDo0aPHhg0bcnNzme0XL15UVVVt3bo105M0NTWV2e7u7k7Odv/+fbJXVlaWGXLJwjyXnZ3duHHj5OXlz507RzaSf7/55hvyZ//+/dnFiZmnHjRoENlOTkVeKnngkydP+D4F0fDRo0e//PJL8jrJ67969SpzhszMzEWLFnXs2JFs79evH/N0RUVF6urqXbt2JWfu3bv34cOHmYNjY2Nnz56trKzcpk2befPmpaR8bMe0tLTIyzh79iw5v5SUVI09dSBgCPiTqHEV3jcZgf/ZXuWUnc/7hiY8QbMLQNMVMFHgnTt3Xr16NXfuXKIlJq0MDQ0litXV1Y2IiCA6/OGHH5YtW8Y8nAjJ0dExKirK19d3xIgR06dPpwVMLOjs7BwZGcmue0gLmF0/ODEx0czMrFu3bsyf5N8OHTqcP3+eHJmTk0Pu//XXX8+ePSNP9PXXX3MJmH6KXbt2kddPlExej6WlJTGrh4cHOZKIdvDgwYGBgeR5XVxcbt26RTYeP368Z8+enp6eMTExXl5ezLyERKvk3Y0ePTooKMjPz2/IkCHMIoyMgImVp02bFhwc/PTpUwgYAm7MDDguvWTnxbdU2fmsaeBIZL0ACGltVVVNu3c/KY4bOXO9CNjCwoLZToRH/nzx4kVF5WRB9Gx9RFfS0tK8PywCAgLIQ96/f8/a8caNG3xfDPNcenp67BbiQkaBDAcPHhw5ciS5Y2xsrKKiwj6Xubk5l4DZpyBJOUlw6ax95cqVJCknd2bNmrV8+XKu10Dy+IkTJ3J5lLhcRkYmLi6O/hDI+2IETPLstLS0ev9NBgFDwPzhugbM9LdKeR9+I+jlWpOP9l1jEqfjvAlXfAGosbUlpvzss33iuJEz14uAGdlUVM3W9/DhQ3L/22+/lZOTU65CSUmJ7CJvraJy5r7Zs2f36tWLpMjMdiIt1o4JCQlCBOzt7c38SaxG/lRUVGSfgiSvnTt3Jrs2b948YcIE9oEk9eQSMPsUjP6VKYgvhw0bVlE5DxI5+aBBg7Zt20YyeOb4x48fk9z6q6++IiZ2cnJiNurr65O8nH6p7du3t7KyYgTcr18/cRRFIGAIWFgezFzQZWRs7D/6P9trbOK7+3LMaZ+ZzGoKjIBr7DUNADJgic2AGbcRsrKyyJ9EcuT+N998Qyz1ujpFRUUk6ezYseOiRYs8PT1Jrkw0xmVHchIhAmafKyUlhfxpbW1Nn5+ZjnfTpk0kT2UfGBISIugp/Pz8yJ8eHh70Sdhcljje0tJy8eLFJEtml2knTaitre2qVavatWv3xx9/kC0kKWfXkGUguy5cuFBRdQ0YAoaAGyFgTDla13Oe+tlQjn3tz5oEjqBr1JjZCgDhrW1j8SkCJoqlLcgSFBREjmEld/HixboJuLI20P3AgQO8RxobGxPHswOlLCwsBD1FTk4OyZsZWQrBxMSkTZs2XBvv379PTpWRkcG3BM0stAMBQ8CNFrCEdwEH72quNkquKjvH6rhs5LeggirmdgZAMgU8fvz4JxSxsbEiCvjp06eKiorr168neyMiIm7evMnMpEvSSjk5uW3btkVFRZGNvD2kRBewubk5eQqSgL569So0NPTcuXMnT55k2roOHTosXbqUfJJEkyQXJw8keTDfp9i9e7eKisr58+cjIyODg4MNDAyYnlx79+69ceMGSYjDw8NnzpzJ1KVPnTplY2NDEnfyjCtXruzatWtZWRnTCWvMmDGPHz/29/dXVVWlO2FBwBBwIwQsr7DsjGM6m/huOu9z2mcGo1jauNXvY3UjAAFLloC5ZsklW0QUcEXlFdYpU6a0bt1aWVl54MCBhw4dYrZfvny5T58+JPUcOXLkrVu36ixgwqVLlwYPHkyM/vnnn48dO9bBwYHZ7uPjQ56RbCc6JE9HHvjy5Uu+T0H0qa+v379/f1lZ2U6dOk2bNo25hn3w4MEBAwYw0wD/+uuvTHHbzMyMPB15O23btmVm6WdOInwYEgQMATdowGLSSnZezKLKzmYmgcPYIjPdS4utPyMDBqACc0GLAWtrayLX/Pz85vSVgIAhYD6Qn5NuoQVrjauG+VpkPnqVSpLa1Nxwep4NetqNGmfOAgACBrXCysrKy8uLpK0kU+/evfvixYub2VcCAoaAuckrLDO+n8MmvoeuZqe/KxXlgZgGCwAIuB45evRo79695eXl+/Tps3nz5ry8PAgYAm7OAo5OrVZ2tvXOLSktR0MAAAQMIGAIWFwBKy8vd31asIYqOz95U4T/NgBAwAAChoDFGLC8wjKje1TZ+ZqoZWcAAAQMIGAIuI68SSnZQZWdr3jnoewMAAQMIGAIWIwCLi////bOBaiqqm/jIsnhJspNwSDwAogj1oASJClIjk6Cpk1GCZk6NSSKpHERDVCQbhOWhZhklmWoZIaGFyxCRrQOlIRAgNy8kN8gEi8XDQT8nmHVbr8HSd8SdcPzG4bZe+19Fv+z2Gf91n/tc87qPJr/X9PO+VWcdiaEAiYUMAXcmwJuvtrx/sG/pp3jv2ioa+S0MyEUMKGAKeDeFHDl/10L3/HXtHNqDqedCaGACQVMAfemgDs7OzNk084rPqz/mdPOhFDAhAKmgHtVwM1XO95L/2va+bW9/7nMaWdC+rSApe+C1tbWtra2DgwMrK+vl59w5cqVoUOHGhsba3zRo42NDR518uRJqWTFihXSEgXNzc1hYWEjR45UqVRmZmYoP3DggPzh58+fHzRokIODQ/cc4IMPPnB1dTUwMBgyZIiLi8vGjRsV/SUbFDAFfEv81tzx8kf1f0w7n+C0MyH9QsAzZ868ePEijHjkyJH777/fz89PfsKnn37q4eExefLkzz77TEPAurq6U6ZMuaGA/f397e3t09PTq6qq8vLyNm3aJBYgkoiNjV2wYAGUf/z4cXk5CvX09DZs2KBWq/HYr776ytPTUywL0RNw9rVr1/5lO7S3t3d0dNyxZm9tbaWAKWBNCs+2wcEF1Zx2JqS/CFi+HvDKlStNTEzkJ8B/W7ZsSUpK8vLy0hAwjKujowPLdhcwklcN42ooc9SoUYcPHw4PD1+0aJFUvnv3bvRgkK7GyQ0NDRo1iCWPUANSZGTSmZmZOO2NN95Azo1hwYQJE1JTU6WT09LSxowZg3I8F0QlrZW0fft2xInU3NHRUVtbu7KyEl4MDQ0dMWKEvr4+snBp0afq6mofH5+hQ4eifNy4ceIp19fXP/vss8jvUTPq/+ijj8TJBQUFaCsUoiVfeOGFpqYmeVPHx8dbWlqi9ShgCvhGvUMbE19C+qOAKyoqYJfhw4dLR8vLy1UqFUxz+fJlbOAEuYA3btwYHBwM24ncUS5gBweH+fPnNzY23vCPfvvttxYWFkg6CwsLDQwMpNNmz57dfVL6hggB409nZGQgyLq6usjIyLFjx0LJCBJmRbRZWVnXu5Y4hKFfeeWVkpKSlJQUpPhyAePQI488kpOTg6PNzc0QKnazs7NR51tvvYVKysrKcOasWbOmT58Os6JyCFusZhgUFPTQQw/l5ubiTxw9enT//v0obGlpgb/nzZt3+vRpPE0MCMTyjqKpDQ0NAwIC8KxxlAKmgAkhd1/AsXsaXvm4vjd+UPNNBYzkDxZExiZuBickJEhHYbUnnnhCbMPTa9as0RBwbW3t4MGDd+zYoSFgKMrKygp6mzhxYkhIiMY8MzyHQrH94IMPJicni21konDwrQtYypXhTsR/4sQJ6YQlS5Y888wz2ECSPX78eKkcT0EuYGzn5+dLow0tLa2amhrpZG9v79WrV2PDyckpJiZGIwZfX195+i7YunWrsbEx4hG7yJUHDhwoFg9GU2NwozH5TAFTwP9F17JFai5bRMgdEzBMKb358fb+oOabCvixxx47c+bMzz//vHz58hkzZkj3U5GhIl/84osvxG5qaiqcikK5gLGxbt06W1tbeEUuYNDW1oZU8rXXXkPuCLGtX79elEN+kGVeXp7YRaLp7u4utpHCyufDbyrgCxcuiF21Wo1dAxlwv6urKw5hACHXZFpamlzAOjo6nZ1/zPnt2bNHo5L77rsPeTwOYYiAbSTHUVFRaChx/sGDB/X09DCACA0NRQ4tCl9++WVPT0/pzzU0NKBOkTGLpr71SREKuN8JmAv3EtLfMmC58yCPtWvXStmbeHe0BHZhHQ0BNzU1IbHDtoaA5cTGxsKIIvlLTEyUV4sEEbtFRUXXu6ag7e3tb13AwqPg+++/x25WVtYZGefOnROJ++LFi6UHImnWuAcsHdq1axfiKSkpkVdy8eJFcRS1JSUlzZ07F09k06ZNorC2thaVLFiwAEOKVatWoQSZvfxmuRAwBiLdm5oCpoA1c19hX/GDbebBhNwBAd9FNKwAscElYhp23rx5fn5+p2XANE8++aSGgMH7779vZmaGRLMnAe/duxdJsOianJ2d4Sp5tTCWsBcU+D+9CUsScGNjo0qlEjPhGoSHhzs5OUm7GF70JODS0lJJln9DRESEvELBli1bBg8efP1mU9AUMAXcIzWNasm+4qemMZfdJSH9R8DAxcUlKCgIuR1SvUOHDskPZWRkoBCHNATc1tY2evRomFsSMDbgpLy8vKqqKkjIwcFh2rRpKD916hT6qF9++UVeLaRlbm6OSuDap59+Wk9PLz4+Pjc3t7q6+sCBA3hg948haQj4etfNXVNT048//ri8vPynn37CmEC8DbuyshIxh4WFwa+7d++2srLCA4XRNQR8vetDULa2thgu4FFqtfr1118Xb3hGcn/48GEU/vjjj66urmJe+tVXX8VYAVlyYWGhj4+PmPFuaWmxtLTEMAUDi8zMzFGjRsnfhEUBU8DMgAmhgHsU8M6dO3V0dGJiYoYOHQopyg9du3bNxMTk7bff1hAw+Pzzz9H5SAKGQd3d3XEyrAwJBQcH19XVoXzZsmXjxo3TiAFG19bWhvaw3dHRkZSUNGnSJH19fSMjI4wG3n33XY3vALmhgCFvnAnTQ7fQ+YwZM8Sd1+t/fgwJKbKnpycqxwNF43cXMJ5vVFQUHIxKLCws5s6dW1BQIMLGCAM1oOaAgADxXGJjYx0dHTFcwNNEG0LPopK//xgSBUwB9wjvARPSrwTc34iLi0MSrIhLggLudwK+/se7oHOZ+xJCAfcNEhMT1Wp1RUXFjh07kPLKP0xFAVPA95aACSEUcF8iJCTE0tJSpVLZ2dmtX7/+339vJQVMAVPAhFDApM9eEhQwBUwIoYAJBUwBU8CE9JXetvs7e0m/BRcDBUwBE0J6nfb2dvS24qMshABcDLgkpK/5pIApYEJIb/Hrr78KByP1uUr6MbgAhH1xSfS9/pwCJoTcc3R2dgoHEyLsK60JQQFTwISQXqe9vZ0pINGYeaaAKWBCCCHszylgCpgQQihgCpj/MEIIIezPKWAKmBBC2J9TwHebhoYG/MPOnz//H0IIIUoGPbm0dDEFrADEP4wQQkjfAL06BawMOjo68N/CiOl2Db4UmkwzeAbfr4Jns/fJ4NGTo2b06hQwbz8weAbP4Bk5g+9rt2kpYF5YDJ7BM3g2O4OngAlfFQyewTNyBk8BU8B3i99//z06Ohq/GTyDZ/CMnMH3veApYEIIIYQCJoQQQggFTAghhFDAhBBCCKGACSGEEAq4z+Pr62ttba1SqSwsLPz9/WtqahQRdlVV1eLFi21tbXV1dUeNGhUVFdXa2qqgZo+Li3N3d9fT0xsyZIgiAk5MTERr4zpxdnbOzs5WUFMfO3bMx8fH0tJywIAB+/btU1Dk8fHxEydONDQ0NDc3nzNnTklJiYKC37x5s5OT0+Au3NzcDh48qMTuEf8CXDYrVqygKSjgXiEhIeHkyZPV1dU5OTnuXSgi7EOHDj3//PNHjhypqKhIS0sbNmzYqlWrFNTsGDGg5VeuXKkIAe/atWvQoEHJycnFxcXojAwMDM6ePauUpkbXv2bNmr179ypOwDNmzNi+fXthYWF+fv6sWbMeeOCB5uZmpQS/f//+9PT00i4iIyNx/eCJKKtvVKvVGHROmDCBAqaA7wQwmZaWVltbm+Iif/PNN0eOHKm4sNG9KkLArq6ugYGB0u7YsWMjIiKU118oTcByamtrET+yeYXGb2xs/OGHHyoo4KamJjs7u6NHj06dOpUCpoB7ncuXL8+fP3/y5MlKDB4pjouLCwXcG7S2tmpra3/55ZdSSXBw8JQpUyjgO8mZM2cQ/+nTpxUXeXt7e0pKio6OTlFRkYLCfu6550JCQrBBAVPAvUtYWJi+vj5e3m5ubnV1dYqLv7y83MjIKDk5mQLuDWpqanBt5OTkSCUbNmywt7engO8YnZ2dvr6+Hh4eygq7oKDAwMAAozdc5Onp6QqKHCOG8ePHX716lQKmgP8V0dHRPS1FmZubK865dOlSaWlpRkYG0t/HH38cr3alRC70MGbMmCVLliiu2ZUl4BMnTkglcXFxDg4OFPAdY+nSpTY2NopbO7a1tRWJOy74iIgIMzMzpWTA586dGzZsWH5+vtilgCngfw7k+ksPiPGdHLH+pbyrvccjhxuQigUEBNxry2reYrNzCpoCvinLli2zsrKqrKxUdEfk7e394osvKiJUXCS4VLT/BNtaWlrYaG9vp1Ao4N4d+uFq++677xQR7YULF+zs7Pz8/JT7wlDQm7BeeukladfR0ZFvwroDdHZ2BgUFjRgxoqysTOl9y7Rp0xYuXKiIUBsbG0/LmDhxor+/vxLvvlPA9zo//PDDe++9d+rUqerq6szMTA8Pj9GjRyti9Q8x84xXNTR88U8U1PJnz55Fs69bt87Q0PBUF01NTfdstOJjSNu2bSsuLg4JCTEwMMAFo5SmRsOKFoaAExISsKGUz1Bh0IPxWVZWlnSFX7lyRSnNvnr16uzs7KqqqoKCgsjIyIEDB2ZkZCixk+QUNAXcW+C14eXlZWJiolKpbG1tAwMD4TOl5I7db68qqOWRDWgEf49PPCQmJtrY2Ojo6Dg7OyvrwzBoWI2mVkoq1v0Kx2WvlGZfvHixuGDMzc29vb0Val8KmAImhBBCKGBCCCGEAmYTEEIIIRQwIYQQQgETQgghhAImhBBCKGBCCCGEUMCEEEIIBUwIIYQQCpgQZbNw4cI5c+bc9mqV8jXahFDAhBAKmBBCARPS/wQ8derU5cuXh4aGGhsbDx8+PDo6+q9X8oABmzdvnjlzpq6urq2t7Z49e0S5+Brn3377TeyKBRWqqqo0vt5ZXhUhhAImhGgK2MjIKCYmpqys7JNPPtHS0pK+oB8SNTU1TU5OLi0tXbt2rba2dnFx8d8IuLW19Z133kFtYo2ge3khKUIoYELI3Rewh4eHVD5p0qTw8HBJwIGBgdKhhx9+WCw/3JOAr3MKmhAKmBBy6wJeunSpVD579uxFixZJAkZOLB0KCQnx9PSkgAmhgAkht0fA8nVVUSity9tdwF5eXtg4duwYDtXX14tytVpNARNCARNCbqeAxZyzwM3NTewWFxfjUFFRkSjfunWrJOCdO3caGhqyeQmhgAkh/0rAZmZm27ZtKy0tjYqKGjhwoJBuW1ubtbX1U089hfKvv/7awcFBEnBOTg62v/nmm0uXLrW0tLCdCaGACSH/RMCJiYnTp09XqVQ2NjYpKSnSacePH3dyctLV1X300UdTU1MlAYPAwEBTU1N+DIkQCpgQ8k9fyQMG7Nu3j+1ACAVMCKGACSEUMCEUMCGEAiaEEEIIBUwIIYRQwIQQQggFTAghhBAKmBBCCKGACSGEEEIBE0IIIRQwIYQQQihgQgghhAImhBBCCPh/JUKVy4XhlzMAAAAASUVORK5CYII=)"
      ],
      "metadata": {
        "id": "o1sg3rr_AMAc"
      }
    },
    {
      "cell_type": "markdown",
      "source": [
        "We have already sepearted out training and test data (4 groups) durign the Linear Regression, so we will jump forward to setting up the model. "
      ],
      "metadata": {
        "id": "UH37bFhMwStO"
      }
    },
    {
      "cell_type": "code",
      "source": [
        "# There are three steps to model something with sklearn\n",
        "\n",
        "# 1. Set up the model\n",
        "model_ransac = RANSACRegressor()\n",
        "\n",
        "# 2. Then train the model using fit \n",
        "model_ransac.fit(X_train, y_train)\n",
        "\n",
        "# 3. Check the performance score with unseen test data\n",
        "model_ransac.score(X_test, y_test)"
      ],
      "metadata": {
        "outputId": "167cdb5f-e85c-4596-a857-dbd0c6af0c48",
        "colab": {
          "base_uri": "https://localhost:8080/"
        },
        "id": "TbKU23fiwStP"
      },
      "execution_count": 138,
      "outputs": [
        {
          "output_type": "execute_result",
          "data": {
            "text/plain": [
              "0.13515259059998186"
            ]
          },
          "metadata": {},
          "execution_count": 138
        }
      ]
    },
    {
      "cell_type": "markdown",
      "source": [
        "You can extract model information:"
      ],
      "metadata": {
        "id": "5Jdg50YuwStP"
      }
    },
    {
      "cell_type": "code",
      "source": [
        "# this model doesn't have coefficeint function under attributes\n",
        "# model_ransac.coef_ # Get the coefficients, beta (slopes)\n",
        "model_ransac.estimator_.coef_\n"
      ],
      "metadata": {
        "colab": {
          "base_uri": "https://localhost:8080/"
        },
        "outputId": "2cf98016-5c84-4eb3-f6bf-29256fd604a8",
        "id": "ssxXl8CXwStP"
      },
      "execution_count": 140,
      "outputs": [
        {
          "output_type": "execute_result",
          "data": {
            "text/plain": [
              "array([  -47.44165612,  -512.57598006,   769.26908083,   105.74364837,\n",
              "       -1561.92253133,  1286.48805758,    60.89513324,   138.48824652,\n",
              "        1123.49637361,  -346.11904649])"
            ]
          },
          "metadata": {},
          "execution_count": 140
        }
      ]
    },
    {
      "cell_type": "code",
      "source": [
        "# this model doesn't have intercept function under attributes\n",
        "# model_ransac.intercept_ # Get the intercept, c\n",
        "model_ransac.estimator_.intercept_"
      ],
      "metadata": {
        "colab": {
          "base_uri": "https://localhost:8080/"
        },
        "outputId": "4e987fd5-0443-43d4-9529-374e86806bbc",
        "id": "WrcRyzOHwStP"
      },
      "execution_count": 141,
      "outputs": [
        {
          "output_type": "execute_result",
          "data": {
            "text/plain": [
              "145.72583002625288"
            ]
          },
          "metadata": {},
          "execution_count": 141
        }
      ]
    },
    {
      "cell_type": "code",
      "source": [
        "model_ransac.get_params()"
      ],
      "metadata": {
        "colab": {
          "base_uri": "https://localhost:8080/"
        },
        "outputId": "88375eba-61df-4926-e72d-8944989490d6",
        "id": "-Mo0Jeb9wStP"
      },
      "execution_count": 128,
      "outputs": [
        {
          "output_type": "execute_result",
          "data": {
            "text/plain": [
              "{'base_estimator': None,\n",
              " 'is_data_valid': None,\n",
              " 'is_model_valid': None,\n",
              " 'loss': 'absolute_error',\n",
              " 'max_skips': inf,\n",
              " 'max_trials': 100,\n",
              " 'min_samples': None,\n",
              " 'random_state': None,\n",
              " 'residual_threshold': None,\n",
              " 'stop_n_inliers': inf,\n",
              " 'stop_probability': 0.99,\n",
              " 'stop_score': inf}"
            ]
          },
          "metadata": {},
          "execution_count": 128
        }
      ]
    },
    {
      "cell_type": "code",
      "source": [
        "model_ransac.predict(X_test) # Predict unkown data"
      ],
      "metadata": {
        "colab": {
          "base_uri": "https://localhost:8080/"
        },
        "outputId": "0221fbc8-2a72-4f81-e32e-1ed14f54122b",
        "id": "HyZRxQ1AwStP"
      },
      "execution_count": 129,
      "outputs": [
        {
          "output_type": "execute_result",
          "data": {
            "text/plain": [
              "array([203.20224684, 270.95787287, 146.66297437, 129.90491245,\n",
              "       180.97609529, 277.55053577, 103.72609519, 164.02243507,\n",
              "       150.50861023, 268.94205246, 235.09354657, 121.4706383 ,\n",
              "       105.34190886, 112.46862883, 179.17480474, 109.36629455,\n",
              "       266.30880383,  35.33299458, 217.67108728, 220.91279208,\n",
              "       242.66684077, 170.07860936, 156.87965013, 131.78017636,\n",
              "       201.45570226, 156.89781869,  85.07015383,  75.43309899,\n",
              "       202.4441437 , 130.58436183, 159.09829784,  94.39334263,\n",
              "       206.10704753, 208.86522304, 111.03778464, 208.55402645,\n",
              "       206.18591776, 178.9525889 , 118.00791976, 215.84231973,\n",
              "       101.78261969, 210.75608097, 132.75319016, 193.84525146,\n",
              "       145.03364328,  32.15314697, 113.50954297, 146.27863827,\n",
              "       121.47647764, 284.27267981, 166.19449882,  89.20364463,\n",
              "       165.63921214, 128.18896125, 276.2734138 , 194.83709987,\n",
              "       190.76203696, 148.62126067,  79.49710544, 148.46556725,\n",
              "       255.90660309, 177.03854456,  99.67295636,  89.49331024,\n",
              "       262.1135169 , 192.76317064, 105.12817326, 235.69511939,\n",
              "       211.73702426,  26.3003893 ,  48.14939068,  91.96567501,\n",
              "        59.80002085,  68.00257598, 139.21415481, 236.09917023,\n",
              "        73.03223031, 189.73987913, 157.05545245, 181.18304716,\n",
              "       147.88990017, 195.64570333, -43.46078217, 220.70287639,\n",
              "       131.47947838, 126.25334487, 146.64947486, 211.54920788,\n",
              "       157.81096589])"
            ]
          },
          "metadata": {},
          "execution_count": 129
        }
      ]
    },
    {
      "cell_type": "markdown",
      "source": [
        "We can plot the prediction y_pred_ridge versus original y_test"
      ],
      "metadata": {
        "id": "qWg8xUFCwStP"
      }
    },
    {
      "cell_type": "code",
      "source": [
        "# plot prediction and actual data\n",
        "y_pred_ransac = model_ransac.predict(X_test) \n",
        "plt.plot(y_test, y_pred_ransac, '.')\n",
        "\n",
        "# plot a line, a perfect prediction would all fall on this line\n",
        "# np.linspace is a linear array of 100 values between 0 and 330\n",
        "x = np.linspace(0, 330, 100) \n",
        "y = x\n",
        "plt.plot(x, y)\n",
        "plt.show()"
      ],
      "metadata": {
        "colab": {
          "base_uri": "https://localhost:8080/",
          "height": 265
        },
        "outputId": "afc40bc5-d00e-4ce9-b4ed-60d65e023a5c",
        "id": "_Ux225xqwStQ"
      },
      "execution_count": 142,
      "outputs": [
        {
          "output_type": "display_data",
          "data": {
            "text/plain": [
              "<Figure size 432x288 with 1 Axes>"
            ],
            "image/png": "[encoded data removed]"
          },
          "metadata": {
            "needs_background": "light"
          }
        }
      ]
    },
    {
      "cell_type": "markdown",
      "source": [
        "We now extract some known [Linear Regression metrics](https://scikit-learn.org/stable/modules/model_evaluation.html#regression-metrics) information."
      ],
      "metadata": {
        "id": "xpNYxi_HwStQ"
      }
    },
    {
      "cell_type": "code",
      "source": [
        "# The coefficients\n",
        "print(\"Coefficients: \\n\", model_ransac.estimator_.coef_)\n",
        "\n",
        "# Mean Absolute Error (MAE)\n",
        "print(\"Mean Absolute Error (MAE): %.2f\" % mean_absolute_error(y_test, y_pred_ransac))\n",
        "\n",
        "# The mean squared error\n",
        "print(\"Mean Squared Error: %.2f\" % mean_squared_error(y_test, y_pred_ransac))\n",
        "\n",
        "# Mean Absolute Percent Error\n",
        "print(\"Mean Absolute Percent Error: %.2f\" % mean_absolute_percentage_error(y_test, y_pred_ransac))\n",
        "\n",
        "# The coefficient of determination: 1 is perfect prediction\n",
        "print(\"Coefficient of determination: %.2f\" % r2_score(y_test, y_pred_ransac))"
      ],
      "metadata": {
        "colab": {
          "base_uri": "https://localhost:8080/"
        },
        "outputId": "dd7ca205-a5f4-4a9c-8b41-692b440324a6",
        "id": "2Ye12jspwStQ"
      },
      "execution_count": 144,
      "outputs": [
        {
          "output_type": "stream",
          "name": "stdout",
          "text": [
            "Coefficients: \n",
            " [  -47.44165612  -512.57598006   769.26908083   105.74364837\n",
            " -1561.92253133  1286.48805758    60.89513324   138.48824652\n",
            "  1123.49637361  -346.11904649]\n",
            "Mean Absolute Error (MAE): 53.72\n",
            "Mean Squared Error: 4434.87\n",
            "Mean Absolute Percent Error: 0.45\n",
            "Coefficient of determination: 0.14\n"
          ]
        }
      ]
    },
    {
      "cell_type": "markdown",
      "source": [
        "## \"Robust\" Multivariate Regression Model\n",
        "\n",
        "We will use the [diabetes dataset](https://scikit-learn.org/stable/modules/generated/sklearn.datasets.load_diabetes.html) included in Scikit-Learn.\n",
        "\n",
        "We will also be using [TheilSenRegressor](https://scikit-learn.org/stable/modules/generated/sklearn.linear_model.TheilSenRegressor.html#sklearn.linear_model.TheilSenRegressor).\n",
        "\n",
        "The algorithm calculates least square solutions on subsets with size n_subsamples of the samples in X. Any value of n_subsamples between the number of features and samples leads to an estimator with a compromise between robustness and efficiency. Since the number of least square solutions is “n_samples choose n_subsamples”, it can be extremely large and can therefore be limited with max_subpopulation. If this limit is reached, the subsets are chosen randomly. In a final step, the spatial median (or L1 median) is calculated of all least square solutions."
      ],
      "metadata": {
        "id": "fRgtJDZQL8ex"
      }
    },
    {
      "cell_type": "markdown",
      "source": [
        "We have already sepearted out training and test data (4 groups) during the Linear Regression, so we will jump forward to setting up the model. "
      ],
      "metadata": {
        "id": "_OaBUMBcL8e4"
      }
    },
    {
      "cell_type": "code",
      "source": [
        "# There are three steps to model something with sklearn\n",
        "\n",
        "# 1. Set up the model\n",
        "model_theil = TheilSenRegressor()\n",
        "\n",
        "# 2. Then train the model using fit \n",
        "model_theil.fit(X_train, y_train)\n",
        "\n",
        "# 3. Check the performance score with unseen test data\n",
        "model_theil.score(X_test, y_test)"
      ],
      "metadata": {
        "outputId": "47443645-f0de-431b-aab2-0076739e9bd2",
        "colab": {
          "base_uri": "https://localhost:8080/"
        },
        "id": "0QsI1I-SL8e4"
      },
      "execution_count": 151,
      "outputs": [
        {
          "output_type": "execute_result",
          "data": {
            "text/plain": [
              "0.3118753145415196"
            ]
          },
          "metadata": {},
          "execution_count": 151
        }
      ]
    },
    {
      "cell_type": "markdown",
      "source": [
        "You can extract model information:"
      ],
      "metadata": {
        "id": "0p6zuNWrL8e4"
      }
    },
    {
      "cell_type": "code",
      "source": [
        "# this model doesn't have coefficeint function under attributes\n",
        "# model_ransac.coef_ # Get the coefficients, beta (slopes)\n",
        "model_theil.coef_\n"
      ],
      "metadata": {
        "colab": {
          "base_uri": "https://localhost:8080/"
        },
        "outputId": "e4b5d690-054b-4941-d008-177d56fc2ea5",
        "id": "y8_fxIblL8e4"
      },
      "execution_count": 153,
      "outputs": [
        {
          "output_type": "execute_result",
          "data": {
            "text/plain": [
              "array([  18.59510574, -265.06683712,  564.85324951,  250.94319822,\n",
              "        120.13142816, -362.69441613, -252.65080346,  204.54109282,\n",
              "        505.55635601,   18.07825705])"
            ]
          },
          "metadata": {},
          "execution_count": 153
        }
      ]
    },
    {
      "cell_type": "code",
      "source": [
        "# this model doesn't have intercept function under attributes\n",
        "# model_ransac.intercept_ # Get the intercept, c\n",
        "model_theil.intercept_"
      ],
      "metadata": {
        "colab": {
          "base_uri": "https://localhost:8080/"
        },
        "outputId": "215af72a-b12a-47d0-c02b-78fc01d1756a",
        "id": "EmIMgY0jL8e4"
      },
      "execution_count": 155,
      "outputs": [
        {
          "output_type": "execute_result",
          "data": {
            "text/plain": [
              "150.4139824702427"
            ]
          },
          "metadata": {},
          "execution_count": 155
        }
      ]
    },
    {
      "cell_type": "code",
      "source": [
        "model_theil.get_params()"
      ],
      "metadata": {
        "colab": {
          "base_uri": "https://localhost:8080/"
        },
        "outputId": "e8a886f2-1b33-472e-8674-a48ef083f84a",
        "id": "YFc1NbNNL8e4"
      },
      "execution_count": 156,
      "outputs": [
        {
          "output_type": "execute_result",
          "data": {
            "text/plain": [
              "{'copy_X': True,\n",
              " 'fit_intercept': True,\n",
              " 'max_iter': 300,\n",
              " 'max_subpopulation': 10000,\n",
              " 'n_jobs': None,\n",
              " 'n_subsamples': None,\n",
              " 'random_state': None,\n",
              " 'tol': 0.001,\n",
              " 'verbose': False}"
            ]
          },
          "metadata": {},
          "execution_count": 156
        }
      ]
    },
    {
      "cell_type": "code",
      "source": [
        "model_theil.predict(X_test) # Predict unkown data"
      ],
      "metadata": {
        "colab": {
          "base_uri": "https://localhost:8080/"
        },
        "outputId": "a1aac1d1-62ca-44c1-bde2-7c1abc92b4ea",
        "id": "gxfRQK-KL8e4"
      },
      "execution_count": 157,
      "outputs": [
        {
          "output_type": "execute_result",
          "data": {
            "text/plain": [
              "array([227.88185885, 251.72007571, 156.33862798, 118.79939028,\n",
              "       177.40545919, 260.12991458, 111.2448668 , 184.43130988,\n",
              "       147.82273977, 237.6952935 , 173.93015804, 176.46412524,\n",
              "       105.23459894,  93.2410037 , 238.19646638,  79.35625178,\n",
              "       143.52875588,  69.37581494,  91.04839347, 208.86694815,\n",
              "       182.16258075, 159.31640327, 156.88776143, 154.99002935,\n",
              "       199.73696536, 168.47430896, 112.67922356,  82.9275305 ,\n",
              "       185.85470377, 155.7168771 , 166.63212701,  83.79372311,\n",
              "       137.34660159, 139.74405761, 143.6522137 , 191.46413593,\n",
              "       162.08536293, 184.78199055, 123.92438917, 202.44297094,\n",
              "        84.33332233, 153.11756348, 147.66088915, 185.57960906,\n",
              "       170.71882549,  78.49071145, 141.30344959, 131.53535179,\n",
              "       115.14182384, 222.74672379, 156.29576174,  68.88366391,\n",
              "       145.78674342, 156.1754649 , 231.67023771, 167.25436539,\n",
              "       189.8847132 , 113.70150732, 132.46762255, 166.26874541,\n",
              "       211.7616969 , 165.48070018, 160.61112253, 102.89864187,\n",
              "       278.93119318, 143.01254067,  82.01501071, 232.2992304 ,\n",
              "       201.11710844,  45.6227811 ,  79.05729   , 128.35407628,\n",
              "       104.81705912, 147.18933184, 123.26195534, 182.48940674,\n",
              "        94.03995096, 189.76093238, 216.78977312, 187.03256226,\n",
              "       143.5091519 , 209.27990178,  48.36845524, 199.8341462 ,\n",
              "        70.89028343,  90.64055211, 139.75316113, 189.73689385,\n",
              "       126.42042376])"
            ]
          },
          "metadata": {},
          "execution_count": 157
        }
      ]
    },
    {
      "cell_type": "markdown",
      "source": [
        "We can plot the prediction y_pred_ridge versus original y_test"
      ],
      "metadata": {
        "id": "3GVB4zSTL8e4"
      }
    },
    {
      "cell_type": "code",
      "source": [
        "# plot prediction and actual data\n",
        "y_pred_theil = model_theil.predict(X_test) \n",
        "plt.plot(y_test, y_pred_theil, '.')\n",
        "\n",
        "# plot a line, a perfect prediction would all fall on this line\n",
        "# np.linspace is a linear array of 100 values between 0 and 330\n",
        "x = np.linspace(0, 330, 100) \n",
        "y = x\n",
        "plt.plot(x, y)\n",
        "plt.show()"
      ],
      "metadata": {
        "colab": {
          "base_uri": "https://localhost:8080/",
          "height": 265
        },
        "outputId": "49fca21a-8b11-418c-c78b-b46695382eba",
        "id": "iap52UeaL8e5"
      },
      "execution_count": 158,
      "outputs": [
        {
          "output_type": "display_data",
          "data": {
            "text/plain": [
              "<Figure size 432x288 with 1 Axes>"
            ],
            "image/png": "[encoded data removed]"
          },
          "metadata": {
            "needs_background": "light"
          }
        }
      ]
    },
    {
      "cell_type": "markdown",
      "source": [
        "We now extract some known [Linear Regression metrics](https://scikit-learn.org/stable/modules/model_evaluation.html#regression-metrics) information."
      ],
      "metadata": {
        "id": "efgxq647L8e5"
      }
    },
    {
      "cell_type": "code",
      "source": [
        "# The coefficients\n",
        "print(\"Coefficients: \\n\", model_theil.coef_)\n",
        "\n",
        "# Mean Absolute Error (MAE)\n",
        "print(\"Mean Absolute Error (MAE): %.2f\" % mean_absolute_error(y_test, y_pred_theil))\n",
        "\n",
        "# The mean squared error\n",
        "print(\"Mean Squared Error: %.2f\" % mean_squared_error(y_test, y_pred_theil))\n",
        "\n",
        "# Mean Absolute Percent Error\n",
        "print(\"Mean Absolute Percent Error: %.2f\" % mean_absolute_percentage_error(y_test, y_pred_theil))\n",
        "\n",
        "# The coefficient of determination: 1 is perfect prediction\n",
        "print(\"Coefficient of determination: %.2f\" % r2_score(y_test, y_pred_theil))"
      ],
      "metadata": {
        "colab": {
          "base_uri": "https://localhost:8080/"
        },
        "outputId": "b90cd83b-dbbc-44cd-c0f9-55ecb64d6a06",
        "id": "TUcS0CcRL8e5"
      },
      "execution_count": 159,
      "outputs": [
        {
          "output_type": "stream",
          "name": "stdout",
          "text": [
            "Coefficients: \n",
            " [  18.59510574 -265.06683712  564.85324951  250.94319822  120.13142816\n",
            " -362.69441613 -252.65080346  204.54109282  505.55635601   18.07825705]\n",
            "Mean Absolute Error (MAE): 46.09\n",
            "Mean Squared Error: 3528.65\n",
            "Mean Absolute Percent Error: 0.37\n",
            "Coefficient of determination: 0.31\n"
          ]
        }
      ]
    },
    {
      "cell_type": "markdown",
      "source": [
        "## Compare Models"
      ],
      "metadata": {
        "id": "T2JYzibFsmOr"
      }
    },
    {
      "cell_type": "markdown",
      "source": [
        "### Making a scatterplot of all the predicted values"
      ],
      "metadata": {
        "id": "pMerznnUi2B-"
      }
    },
    {
      "cell_type": "markdown",
      "source": [
        "Plot the original (y_test) versus all the other values predicted from the differnt models."
      ],
      "metadata": {
        "id": "moQbKPeDlhXY"
      }
    },
    {
      "cell_type": "markdown",
      "source": [
        "First want to make a dataframe with all of the datapoints. The data is currently saved as numpy arrays, so we first need to covert the arrays into a dataframe so we can later merge them. "
      ],
      "metadata": {
        "id": "xWmetAH3mLNu"
      }
    },
    {
      "cell_type": "code",
      "source": [
        "# convert arrays into their own dataframes\n",
        "df_test = pd.DataFrame(y_test)\n",
        "df_pred = pd.DataFrame(y_pred)\n",
        "df_pred_ridge = pd.DataFrame(y_pred_ridge)\n",
        "df_pred_ransac = pd.DataFrame(y_pred_ransac)\n",
        "df_pred_theil = pd.DataFrame(y_pred_theil)\n",
        "\n",
        "# rename column names\n",
        "df_test.rename(columns={0 :'Original'}, inplace=True)\n",
        "df_pred.rename(columns={0 :'Linear Regression'}, inplace=True)\n",
        "df_pred_ridge.rename(columns={0 :'Ridge Regression'}, inplace=True)\n",
        "df_pred_ransac.rename(columns={0 :'RANSAC Regression'}, inplace=True)\n",
        "df_pred_theil.rename(columns={0 :'Theil-Sen Regression'}, inplace=True)\n",
        "\n",
        "\n",
        "# check the outputs\n",
        "print(df_test.head)\n",
        "print(df_pred.head)\n",
        "print(df_pred_ridge.head)\n",
        "print(df_pred_ransac.head)\n",
        "print(df_pred_theil.head)"
      ],
      "metadata": {
        "colab": {
          "base_uri": "https://localhost:8080/"
        },
        "id": "0MfLNYSVmvDN",
        "outputId": "f5415f02-ea3b-46cc-e610-723b71fe9c0f"
      },
      "execution_count": 160,
      "outputs": [
        {
          "output_type": "stream",
          "name": "stdout",
          "text": [
            "<bound method NDFrame.head of     Original\n",
            "0      321.0\n",
            "1      215.0\n",
            "2      127.0\n",
            "3       64.0\n",
            "4      175.0\n",
            "..       ...\n",
            "84     104.0\n",
            "85      49.0\n",
            "86     103.0\n",
            "87     142.0\n",
            "88      59.0\n",
            "\n",
            "[89 rows x 1 columns]>\n",
            "<bound method NDFrame.head of     Linear Regression\n",
            "0          238.471452\n",
            "1          248.931706\n",
            "2          164.054042\n",
            "3          120.307944\n",
            "4          187.424221\n",
            "..                ...\n",
            "84          76.773777\n",
            "85          94.940469\n",
            "86         145.295505\n",
            "87         194.037764\n",
            "88         132.785343\n",
            "\n",
            "[89 rows x 1 columns]>\n",
            "<bound method NDFrame.head of     Ridge Regression\n",
            "0         236.049690\n",
            "1         255.809546\n",
            "2         160.352068\n",
            "3         122.670074\n",
            "4         191.335137\n",
            "..               ...\n",
            "84         72.574747\n",
            "85         96.171410\n",
            "86        149.003149\n",
            "87        190.432497\n",
            "88        135.560419\n",
            "\n",
            "[89 rows x 1 columns]>\n",
            "<bound method NDFrame.head of     RANSAC Regression\n",
            "0          217.021898\n",
            "1          264.373293\n",
            "2          143.499148\n",
            "3          147.623896\n",
            "4          160.278278\n",
            "..                ...\n",
            "84          82.604630\n",
            "85          81.107299\n",
            "86         167.334719\n",
            "87         209.675812\n",
            "88         144.331961\n",
            "\n",
            "[89 rows x 1 columns]>\n",
            "<bound method NDFrame.head of     Theil-Sen Regression\n",
            "0             227.881859\n",
            "1             251.720076\n",
            "2             156.338628\n",
            "3             118.799390\n",
            "4             177.405459\n",
            "..                   ...\n",
            "84             70.890283\n",
            "85             90.640552\n",
            "86            139.753161\n",
            "87            189.736894\n",
            "88            126.420424\n",
            "\n",
            "[89 rows x 1 columns]>\n"
          ]
        }
      ]
    },
    {
      "cell_type": "code",
      "source": [
        "# concat the dataframes\n",
        "df = pd.concat([df_test, df_pred, df_pred_ridge, df_pred_ransac, df_pred_theil], axis = 1)\n",
        "df.head"
      ],
      "metadata": {
        "colab": {
          "base_uri": "https://localhost:8080/"
        },
        "id": "zwWsKSGtsIhZ",
        "outputId": "69a614e8-3e7e-4a3e-e316-c748c89af43d"
      },
      "execution_count": 161,
      "outputs": [
        {
          "output_type": "execute_result",
          "data": {
            "text/plain": [
              "<bound method NDFrame.head of     Original  Linear Regression  Ridge Regression  RANSAC Regression  \\\n",
              "0      321.0         238.471452        236.049690         217.021898   \n",
              "1      215.0         248.931706        255.809546         264.373293   \n",
              "2      127.0         164.054042        160.352068         143.499148   \n",
              "3       64.0         120.307944        122.670074         147.623896   \n",
              "4      175.0         187.424221        191.335137         160.278278   \n",
              "..       ...                ...               ...                ...   \n",
              "84     104.0          76.773777         72.574747          82.604630   \n",
              "85      49.0          94.940469         96.171410          81.107299   \n",
              "86     103.0         145.295505        149.003149         167.334719   \n",
              "87     142.0         194.037764        190.432497         209.675812   \n",
              "88      59.0         132.785343        135.560419         144.331961   \n",
              "\n",
              "    Theil-Sen Regression  \n",
              "0             227.881859  \n",
              "1             251.720076  \n",
              "2             156.338628  \n",
              "3             118.799390  \n",
              "4             177.405459  \n",
              "..                   ...  \n",
              "84             70.890283  \n",
              "85             90.640552  \n",
              "86            139.753161  \n",
              "87            189.736894  \n",
              "88            126.420424  \n",
              "\n",
              "[89 rows x 5 columns]>"
            ]
          },
          "metadata": {},
          "execution_count": 161
        }
      ]
    },
    {
      "cell_type": "code",
      "source": [
        "# multiple plots\n",
        "plt.plot('Original', 'Linear Regression', data=df, linestyle='none', marker='o') # linear regression\n",
        "plt.plot('Original', 'Ridge Regression', data=df, linestyle='none', marker='o') # ridge regression (HuberRegressor)\n",
        "plt.plot('Original', 'RANSAC Regression', data=df, linestyle='none', marker='o') # ridge regression (HuberRegressor)\n",
        "plt.plot('Original', 'Theil-Sen Regression', data=df, linestyle='none', marker='o') # ridge regression (HuberRegressor)\n",
        "\n",
        "\n",
        "# show legend\n",
        "plt.legend()"
      ],
      "metadata": {
        "colab": {
          "base_uri": "https://localhost:8080/",
          "height": 283
        },
        "id": "0aDdcMj3tQHd",
        "outputId": "9b0d456e-8468-4777-e176-1446d189a2c3"
      },
      "execution_count": 162,
      "outputs": [
        {
          "output_type": "execute_result",
          "data": {
            "text/plain": [
              "<matplotlib.legend.Legend at 0x7fd2a3cd2650>"
            ]
          },
          "metadata": {},
          "execution_count": 162
        },
        {
          "output_type": "display_data",
          "data": {
            "text/plain": [
              "<Figure size 432x288 with 1 Axes>"
            ],
            "image/png": "[encoded data removed]"
          },
          "metadata": {
            "needs_background": "light"
          }
        }
      ]
    },
    {
      "cell_type": "markdown",
      "source": [
        "### Comparing Paramaters"
      ],
      "metadata": {
        "id": "YRjJvo9Li6PR"
      }
    },
    {
      "cell_type": "code",
      "source": [
        "# initialize data of lists.\n",
        "# params = {'Model': ['Linear', 'Ridge', 'RANSAC', 'Theil-Sen'],\n",
        "        # 'Mean Absolute Error': [(% mean_absolute_error(y_test, y_pred)), (% mean_absolute_error(y_test, y_pred_ridge)), (% mean_absolute_error(y_test, y_pred_ransac)), (% mean_absolute_error(y_test, y_pred_theil))],\n",
        "        # 'Mean Squared Error': [(% mean_squared_error(y_test, y_pred)), (% mean_squared_error(y_test, y_pred_ridge)), (% mean_squared_error(y_test, y_pred_ransac)), (% mean_squared_error(y_test, y_pred_theil))]}\n",
        "        #'Mean Absolute Percent Error': [(20), (21), (19), (18)],\n",
        "        #'Coefficient of determination': [(20), (21), (19), (18)]}\n",
        "\n",
        "params = {'Model': ['Linear', 'Ridge', 'RANSAC', 'Theil-Sen'],\n",
        "        'Mean Absolute Error': [(mean_absolute_error(y_test, y_pred)), (mean_absolute_error(y_test, y_pred_ridge)), (mean_absolute_error(y_test, y_pred_ransac)), (mean_absolute_error(y_test, y_pred_theil))],\n",
        "        'Mean Squared Error': [(mean_squared_error(y_test, y_pred)), (mean_squared_error(y_test, y_pred_ridge)), (mean_squared_error(y_test, y_pred_ransac)), (mean_squared_error(y_test, y_pred_theil))],\n",
        "        'Mean Absolute Percent Error': [(mean_absolute_percentage_error(y_test, y_pred)), (mean_absolute_percentage_error(y_test, y_pred_ridge)), (mean_absolute_percentage_error(y_test, y_pred_ransac)), (mean_absolute_percentage_error(y_test, y_pred_theil))],\n",
        "        'Coefficient of determination': [(r2_score(y_test, y_pred)), (r2_score(y_test, y_pred_ridge)), (r2_score(y_test, y_pred_ransac)), (r2_score(y_test, y_pred_theil))]}\n",
        "  \n",
        "# Create dataframe\n",
        "df_params = pd.DataFrame(params)\n",
        "df_params\n"
      ],
      "metadata": {
        "colab": {
          "base_uri": "https://localhost:8080/",
          "height": 175
        },
        "id": "-kpkbUO9XCYh",
        "outputId": "a62ab7c3-be46-435c-cf5a-98233f2c5768"
      },
      "execution_count": 186,
      "outputs": [
        {
          "output_type": "execute_result",
          "data": {
            "text/plain": [
              "       Model  Mean Absolute Error  Mean Squared Error  \\\n",
              "0     Linear            46.094697         3528.653174   \n",
              "1      Ridge            46.954318         3519.042448   \n",
              "2     RANSAC            53.724575         4434.874407   \n",
              "3  Theil-Sen            46.094697         3528.653174   \n",
              "\n",
              "   Mean Absolute Percent Error  Coefficient of determination  \n",
              "0                     0.371409                      0.311875  \n",
              "1                     0.389569                      0.313750  \n",
              "2                     0.448424                      0.135153  \n",
              "3                     0.371409                      0.311875  "
            ],
            "text/html": [
              "\n",
              "  <div id=\"df-03bf1928-0e66-4909-bb6d-34680a019c03\">\n",
              "    <div class=\"colab-df-container\">\n",
              "      <div>\n",
              "<style scoped>\n",
              "    .dataframe tbody tr th:only-of-type {\n",
              "        vertical-align: middle;\n",
              "    }\n",
              "\n",
              "    .dataframe tbody tr th {\n",
              "        vertical-align: top;\n",
              "    }\n",
              "\n",
              "    .dataframe thead th {\n",
              "        text-align: right;\n",
              "    }\n",
              "</style>\n",
              "<table border=\"1\" class=\"dataframe\">\n",
              "  <thead>\n",
              "    <tr style=\"text-align: right;\">\n",
              "      <th></th>\n",
              "      <th>Model</th>\n",
              "      <th>Mean Absolute Error</th>\n",
              "      <th>Mean Squared Error</th>\n",
              "      <th>Mean Absolute Percent Error</th>\n",
              "      <th>Coefficient of determination</th>\n",
              "    </tr>\n",
              "  </thead>\n",
              "  <tbody>\n",
              "    <tr>\n",
              "      <th>0</th>\n",
              "      <td>Linear</td>\n",
              "      <td>46.094697</td>\n",
              "      <td>3528.653174</td>\n",
              "      <td>0.371409</td>\n",
              "      <td>0.311875</td>\n",
              "    </tr>\n",
              "    <tr>\n",
              "      <th>1</th>\n",
              "      <td>Ridge</td>\n",
              "      <td>46.954318</td>\n",
              "      <td>3519.042448</td>\n",
              "      <td>0.389569</td>\n",
              "      <td>0.313750</td>\n",
              "    </tr>\n",
              "    <tr>\n",
              "      <th>2</th>\n",
              "      <td>RANSAC</td>\n",
              "      <td>53.724575</td>\n",
              "      <td>4434.874407</td>\n",
              "      <td>0.448424</td>\n",
              "      <td>0.135153</td>\n",
              "    </tr>\n",
              "    <tr>\n",
              "      <th>3</th>\n",
              "      <td>Theil-Sen</td>\n",
              "      <td>46.094697</td>\n",
              "      <td>3528.653174</td>\n",
              "      <td>0.371409</td>\n",
              "      <td>0.311875</td>\n",
              "    </tr>\n",
              "  </tbody>\n",
              "</table>\n",
              "</div>\n",
              "      <button class=\"colab-df-convert\" onclick=\"convertToInteractive('df-03bf1928-0e66-4909-bb6d-34680a019c03')\"\n",
              "              title=\"Convert this dataframe to an interactive table.\"\n",
              "              style=\"display:none;\">\n",
              "        \n",
              "  <svg xmlns=\"http://www.w3.org/2000/svg\" height=\"24px\"viewBox=\"0 0 24 24\"\n",
              "       width=\"24px\">\n",
              "    <path d=\"M0 0h24v24H0V0z\" fill=\"none\"/>\n",
              "    <path d=\"M18.56 5.44l.94 2.06.94-2.06 2.06-.94-2.06-.94-.94-2.06-.94 2.06-2.06.94zm-11 1L8.5 8.5l.94-2.06 2.06-.94-2.06-.94L8.5 2.5l-.94 2.06-2.06.94zm10 10l.94 2.06.94-2.06 2.06-.94-2.06-.94-.94-2.06-.94 2.06-2.06.94z\"/><path d=\"M17.41 7.96l-1.37-1.37c-.4-.4-.92-.59-1.43-.59-.52 0-1.04.2-1.43.59L10.3 9.45l-7.72 7.72c-.78.78-.78 2.05 0 2.83L4 21.41c.39.39.9.59 1.41.59.51 0 1.02-.2 1.41-.59l7.78-7.78 2.81-2.81c.8-.78.8-2.07 0-2.86zM5.41 20L4 18.59l7.72-7.72 1.47 1.35L5.41 20z\"/>\n",
              "  </svg>\n",
              "      </button>\n",
              "      \n",
              "  <style>\n",
              "    .colab-df-container {\n",
              "      display:flex;\n",
              "      flex-wrap:wrap;\n",
              "      gap: 12px;\n",
              "    }\n",
              "\n",
              "    .colab-df-convert {\n",
              "      background-color: #E8F0FE;\n",
              "      border: none;\n",
              "      border-radius: 50%;\n",
              "      cursor: pointer;\n",
              "      display: none;\n",
              "      fill: #1967D2;\n",
              "      height: 32px;\n",
              "      padding: 0 0 0 0;\n",
              "      width: 32px;\n",
              "    }\n",
              "\n",
              "    .colab-df-convert:hover {\n",
              "      background-color: #E2EBFA;\n",
              "      box-shadow: 0px 1px 2px rgba(60, 64, 67, 0.3), 0px 1px 3px 1px rgba(60, 64, 67, 0.15);\n",
              "      fill: #174EA6;\n",
              "    }\n",
              "\n",
              "    [theme=dark] .colab-df-convert {\n",
              "      background-color: #3B4455;\n",
              "      fill: #D2E3FC;\n",
              "    }\n",
              "\n",
              "    [theme=dark] .colab-df-convert:hover {\n",
              "      background-color: #434B5C;\n",
              "      box-shadow: 0px 1px 3px 1px rgba(0, 0, 0, 0.15);\n",
              "      filter: drop-shadow(0px 1px 2px rgba(0, 0, 0, 0.3));\n",
              "      fill: #FFFFFF;\n",
              "    }\n",
              "  </style>\n",
              "\n",
              "      <script>\n",
              "        const buttonEl =\n",
              "          document.querySelector('#df-03bf1928-0e66-4909-bb6d-34680a019c03 button.colab-df-convert');\n",
              "        buttonEl.style.display =\n",
              "          google.colab.kernel.accessAllowed ? 'block' : 'none';\n",
              "\n",
              "        async function convertToInteractive(key) {\n",
              "          const element = document.querySelector('#df-03bf1928-0e66-4909-bb6d-34680a019c03');\n",
              "          const dataTable =\n",
              "            await google.colab.kernel.invokeFunction('convertToInteractive',\n",
              "                                                     [key], {});\n",
              "          if (!dataTable) return;\n",
              "\n",
              "          const docLinkHtml = 'Like what you see? Visit the ' +\n",
              "            '<a target=\"_blank\" href=https://colab.research.google.com/notebooks/data_table.ipynb>data table notebook</a>'\n",
              "            + ' to learn more about interactive tables.';\n",
              "          element.innerHTML = '';\n",
              "          dataTable['output_type'] = 'display_data';\n",
              "          await google.colab.output.renderOutput(dataTable, element);\n",
              "          const docLink = document.createElement('div');\n",
              "          docLink.innerHTML = docLinkHtml;\n",
              "          element.appendChild(docLink);\n",
              "        }\n",
              "      </script>\n",
              "    </div>\n",
              "  </div>\n",
              "  "
            ]
          },
          "metadata": {},
          "execution_count": 186
        }
      ]
    },
    {
      "cell_type": "markdown",
      "source": [
        "The models all look fairly comparable except for the RANSAC one which has a high mean absolute error, high mean absoloute percent error, and a low r-squared value. "
      ],
      "metadata": {
        "id": "veLJf6UWjB8o"
      }
    }
  ]
}