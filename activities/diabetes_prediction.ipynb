{
  "metadata": {
    "kernelspec": {
      "language": "python",
      "display_name": "Python 3",
      "name": "python3"
    },
    "language_info": {
      "pygments_lexer": "ipython3",
      "nbconvert_exporter": "python",
      "version": "3.6.4",
      "file_extension": ".py",
      "codemirror_mode": {
        "name": "ipython",
        "version": 3
      },
      "name": "python",
      "mimetype": "text/x-python"
    },
    "colab": {
      "provenance": [],
      "include_colab_link": true
    }
  },
  "nbformat_minor": 0,
  "nbformat": 4,
  "cells": [
    {
      "cell_type": "markdown",
      "metadata": {
        "id": "view-in-github",
        "colab_type": "text"
      },
      "source": [
        "<a href=\"https://colab.research.google.com/github/klmartinez/DSF/blob/main/activities/diabetes_prediction.ipynb\" target=\"_parent\"><img src=\"https://colab.research.google.com/assets/colab-badge.svg\" alt=\"Open In Colab\"/></a>"
      ]
    },
    {
      "cell_type": "markdown",
      "source": [
        "# Unsupervised Learing Algorithm for Predicting Diabetes"
      ],
      "metadata": {
        "id": "F0DV6ClvORy3"
      }
    },
    {
      "cell_type": "markdown",
      "source": [
        "Kiana Lee Martinez\\\n",
        "kianalee@arizona.edu\\\n",
        "last updated: 2022-11-23"
      ],
      "metadata": {
        "id": "mEcA8B0eOa2A"
      }
    },
    {
      "cell_type": "markdown",
      "source": [
        "In this Notebook I will be taking code from Hossein Faridnasr's [Diabetes Prediction & Model Selection Accuracy>83%](https://www.kaggle.com/code/hosseinfaridnasr/diabetes-prediction-model-selection-accuracy-83) and Carlos Lizarraga's [Introduction to Unsupervised Learning Algorithms](https://github.com/clizarraga-UAD7/Notebooks/blob/main/Intro_UnsupervisedLearning.ipynb)."
      ],
      "metadata": {
        "id": "fjTnyEi-OmEn"
      }
    },
    {
      "cell_type": "markdown",
      "source": [
        "# Loading necessary packages and our data"
      ],
      "metadata": {
        "id": "27G3KEhlNpnc"
      }
    },
    {
      "cell_type": "code",
      "source": [
        "# import packages\n",
        "import pandas as pd\n",
        "import numpy as np\n",
        "import matplotlib.pyplot as plt\n",
        "import seaborn as sns\n",
        "from sklearn.model_selection import train_test_split\n",
        "from sklearn.preprocessing import StandardScaler\n",
        "from sklearn.linear_model import LogisticRegression, RidgeClassifier, RidgeClassifierCV\n",
        "from sklearn.gaussian_process import GaussianProcessClassifier\n",
        "from sklearn import tree\n",
        "from sklearn.neighbors import KNeighborsClassifier\n",
        "from sklearn.svm import SVC\n",
        "from sklearn.pipeline import make_pipeline\n",
        "from sklearn.ensemble import RandomForestClassifier\n",
        "from sklearn.metrics import accuracy_score, precision_score, recall_score, f1_score, roc_auc_score\n",
        "sns.set(rc={'figure.figsize':(11.7,8.27)})"
      ],
      "metadata": {
        "execution": {
          "iopub.status.busy": "2022-11-11T23:25:37.025613Z",
          "iopub.execute_input": "2022-11-11T23:25:37.026052Z",
          "iopub.status.idle": "2022-11-11T23:25:37.086096Z",
          "shell.execute_reply.started": "2022-11-11T23:25:37.026013Z",
          "shell.execute_reply": "2022-11-11T23:25:37.085214Z"
        },
        "trusted": true,
        "id": "B71hVDjiNpne"
      },
      "execution_count": 1,
      "outputs": []
    },
    {
      "cell_type": "code",
      "source": [
        "# read in diabetes dataset\n",
        "df = pd.read_csv('../input/predict-diabities/diabetes.csv')"
      ],
      "metadata": {
        "execution": {
          "iopub.status.busy": "2022-11-11T23:25:37.087658Z",
          "iopub.execute_input": "2022-11-11T23:25:37.087998Z",
          "iopub.status.idle": "2022-11-11T23:25:37.101659Z",
          "shell.execute_reply.started": "2022-11-11T23:25:37.087963Z",
          "shell.execute_reply": "2022-11-11T23:25:37.100922Z"
        },
        "trusted": true,
        "colab": {
          "base_uri": "https://localhost:8080/",
          "height": 344
        },
        "id": "89w2EY1lNpnf",
        "outputId": "020d6032-b586-4b15-a39f-16bec3bac353"
      },
      "execution_count": 2,
      "outputs": [
        {
          "output_type": "error",
          "ename": "FileNotFoundError",
          "evalue": "ignored",
          "traceback": [
            "\u001b[0;31m---------------------------------------------------------------------------\u001b[0m",
            "\u001b[0;31mFileNotFoundError\u001b[0m                         Traceback (most recent call last)",
            "\u001b[0;32m<ipython-input-2-18b42ac133b0>\u001b[0m in \u001b[0;36m<module>\u001b[0;34m\u001b[0m\n\u001b[1;32m      1\u001b[0m \u001b[0;31m# read in diabetes dataset\u001b[0m\u001b[0;34m\u001b[0m\u001b[0;34m\u001b[0m\u001b[0;34m\u001b[0m\u001b[0m\n\u001b[0;32m----> 2\u001b[0;31m \u001b[0mdf\u001b[0m \u001b[0;34m=\u001b[0m \u001b[0mpd\u001b[0m\u001b[0;34m.\u001b[0m\u001b[0mread_csv\u001b[0m\u001b[0;34m(\u001b[0m\u001b[0;34m'../input/predict-diabities/diabetes.csv'\u001b[0m\u001b[0;34m)\u001b[0m\u001b[0;34m\u001b[0m\u001b[0;34m\u001b[0m\u001b[0m\n\u001b[0m",
            "\u001b[0;32m/usr/local/lib/python3.7/dist-packages/pandas/util/_decorators.py\u001b[0m in \u001b[0;36mwrapper\u001b[0;34m(*args, **kwargs)\u001b[0m\n\u001b[1;32m    309\u001b[0m                     \u001b[0mstacklevel\u001b[0m\u001b[0;34m=\u001b[0m\u001b[0mstacklevel\u001b[0m\u001b[0;34m,\u001b[0m\u001b[0;34m\u001b[0m\u001b[0;34m\u001b[0m\u001b[0m\n\u001b[1;32m    310\u001b[0m                 )\n\u001b[0;32m--> 311\u001b[0;31m             \u001b[0;32mreturn\u001b[0m \u001b[0mfunc\u001b[0m\u001b[0;34m(\u001b[0m\u001b[0;34m*\u001b[0m\u001b[0margs\u001b[0m\u001b[0;34m,\u001b[0m \u001b[0;34m**\u001b[0m\u001b[0mkwargs\u001b[0m\u001b[0;34m)\u001b[0m\u001b[0;34m\u001b[0m\u001b[0;34m\u001b[0m\u001b[0m\n\u001b[0m\u001b[1;32m    312\u001b[0m \u001b[0;34m\u001b[0m\u001b[0m\n\u001b[1;32m    313\u001b[0m         \u001b[0;32mreturn\u001b[0m \u001b[0mwrapper\u001b[0m\u001b[0;34m\u001b[0m\u001b[0;34m\u001b[0m\u001b[0m\n",
            "\u001b[0;32m/usr/local/lib/python3.7/dist-packages/pandas/io/parsers/readers.py\u001b[0m in \u001b[0;36mread_csv\u001b[0;34m(filepath_or_buffer, sep, delimiter, header, names, index_col, usecols, squeeze, prefix, mangle_dupe_cols, dtype, engine, converters, true_values, false_values, skipinitialspace, skiprows, skipfooter, nrows, na_values, keep_default_na, na_filter, verbose, skip_blank_lines, parse_dates, infer_datetime_format, keep_date_col, date_parser, dayfirst, cache_dates, iterator, chunksize, compression, thousands, decimal, lineterminator, quotechar, quoting, doublequote, escapechar, comment, encoding, encoding_errors, dialect, error_bad_lines, warn_bad_lines, on_bad_lines, delim_whitespace, low_memory, memory_map, float_precision, storage_options)\u001b[0m\n\u001b[1;32m    584\u001b[0m     \u001b[0mkwds\u001b[0m\u001b[0;34m.\u001b[0m\u001b[0mupdate\u001b[0m\u001b[0;34m(\u001b[0m\u001b[0mkwds_defaults\u001b[0m\u001b[0;34m)\u001b[0m\u001b[0;34m\u001b[0m\u001b[0;34m\u001b[0m\u001b[0m\n\u001b[1;32m    585\u001b[0m \u001b[0;34m\u001b[0m\u001b[0m\n\u001b[0;32m--> 586\u001b[0;31m     \u001b[0;32mreturn\u001b[0m \u001b[0m_read\u001b[0m\u001b[0;34m(\u001b[0m\u001b[0mfilepath_or_buffer\u001b[0m\u001b[0;34m,\u001b[0m \u001b[0mkwds\u001b[0m\u001b[0;34m)\u001b[0m\u001b[0;34m\u001b[0m\u001b[0;34m\u001b[0m\u001b[0m\n\u001b[0m\u001b[1;32m    587\u001b[0m \u001b[0;34m\u001b[0m\u001b[0m\n\u001b[1;32m    588\u001b[0m \u001b[0;34m\u001b[0m\u001b[0m\n",
            "\u001b[0;32m/usr/local/lib/python3.7/dist-packages/pandas/io/parsers/readers.py\u001b[0m in \u001b[0;36m_read\u001b[0;34m(filepath_or_buffer, kwds)\u001b[0m\n\u001b[1;32m    480\u001b[0m \u001b[0;34m\u001b[0m\u001b[0m\n\u001b[1;32m    481\u001b[0m     \u001b[0;31m# Create the parser.\u001b[0m\u001b[0;34m\u001b[0m\u001b[0;34m\u001b[0m\u001b[0;34m\u001b[0m\u001b[0m\n\u001b[0;32m--> 482\u001b[0;31m     \u001b[0mparser\u001b[0m \u001b[0;34m=\u001b[0m \u001b[0mTextFileReader\u001b[0m\u001b[0;34m(\u001b[0m\u001b[0mfilepath_or_buffer\u001b[0m\u001b[0;34m,\u001b[0m \u001b[0;34m**\u001b[0m\u001b[0mkwds\u001b[0m\u001b[0;34m)\u001b[0m\u001b[0;34m\u001b[0m\u001b[0;34m\u001b[0m\u001b[0m\n\u001b[0m\u001b[1;32m    483\u001b[0m \u001b[0;34m\u001b[0m\u001b[0m\n\u001b[1;32m    484\u001b[0m     \u001b[0;32mif\u001b[0m \u001b[0mchunksize\u001b[0m \u001b[0;32mor\u001b[0m \u001b[0miterator\u001b[0m\u001b[0;34m:\u001b[0m\u001b[0;34m\u001b[0m\u001b[0;34m\u001b[0m\u001b[0m\n",
            "\u001b[0;32m/usr/local/lib/python3.7/dist-packages/pandas/io/parsers/readers.py\u001b[0m in \u001b[0;36m__init__\u001b[0;34m(self, f, engine, **kwds)\u001b[0m\n\u001b[1;32m    809\u001b[0m             \u001b[0mself\u001b[0m\u001b[0;34m.\u001b[0m\u001b[0moptions\u001b[0m\u001b[0;34m[\u001b[0m\u001b[0;34m\"has_index_names\"\u001b[0m\u001b[0;34m]\u001b[0m \u001b[0;34m=\u001b[0m \u001b[0mkwds\u001b[0m\u001b[0;34m[\u001b[0m\u001b[0;34m\"has_index_names\"\u001b[0m\u001b[0;34m]\u001b[0m\u001b[0;34m\u001b[0m\u001b[0;34m\u001b[0m\u001b[0m\n\u001b[1;32m    810\u001b[0m \u001b[0;34m\u001b[0m\u001b[0m\n\u001b[0;32m--> 811\u001b[0;31m         \u001b[0mself\u001b[0m\u001b[0;34m.\u001b[0m\u001b[0m_engine\u001b[0m \u001b[0;34m=\u001b[0m \u001b[0mself\u001b[0m\u001b[0;34m.\u001b[0m\u001b[0m_make_engine\u001b[0m\u001b[0;34m(\u001b[0m\u001b[0mself\u001b[0m\u001b[0;34m.\u001b[0m\u001b[0mengine\u001b[0m\u001b[0;34m)\u001b[0m\u001b[0;34m\u001b[0m\u001b[0;34m\u001b[0m\u001b[0m\n\u001b[0m\u001b[1;32m    812\u001b[0m \u001b[0;34m\u001b[0m\u001b[0m\n\u001b[1;32m    813\u001b[0m     \u001b[0;32mdef\u001b[0m \u001b[0mclose\u001b[0m\u001b[0;34m(\u001b[0m\u001b[0mself\u001b[0m\u001b[0;34m)\u001b[0m\u001b[0;34m:\u001b[0m\u001b[0;34m\u001b[0m\u001b[0;34m\u001b[0m\u001b[0m\n",
            "\u001b[0;32m/usr/local/lib/python3.7/dist-packages/pandas/io/parsers/readers.py\u001b[0m in \u001b[0;36m_make_engine\u001b[0;34m(self, engine)\u001b[0m\n\u001b[1;32m   1038\u001b[0m             )\n\u001b[1;32m   1039\u001b[0m         \u001b[0;31m# error: Too many arguments for \"ParserBase\"\u001b[0m\u001b[0;34m\u001b[0m\u001b[0;34m\u001b[0m\u001b[0;34m\u001b[0m\u001b[0m\n\u001b[0;32m-> 1040\u001b[0;31m         \u001b[0;32mreturn\u001b[0m \u001b[0mmapping\u001b[0m\u001b[0;34m[\u001b[0m\u001b[0mengine\u001b[0m\u001b[0;34m]\u001b[0m\u001b[0;34m(\u001b[0m\u001b[0mself\u001b[0m\u001b[0;34m.\u001b[0m\u001b[0mf\u001b[0m\u001b[0;34m,\u001b[0m \u001b[0;34m**\u001b[0m\u001b[0mself\u001b[0m\u001b[0;34m.\u001b[0m\u001b[0moptions\u001b[0m\u001b[0;34m)\u001b[0m  \u001b[0;31m# type: ignore[call-arg]\u001b[0m\u001b[0;34m\u001b[0m\u001b[0;34m\u001b[0m\u001b[0m\n\u001b[0m\u001b[1;32m   1041\u001b[0m \u001b[0;34m\u001b[0m\u001b[0m\n\u001b[1;32m   1042\u001b[0m     \u001b[0;32mdef\u001b[0m \u001b[0m_failover_to_python\u001b[0m\u001b[0;34m(\u001b[0m\u001b[0mself\u001b[0m\u001b[0;34m)\u001b[0m\u001b[0;34m:\u001b[0m\u001b[0;34m\u001b[0m\u001b[0;34m\u001b[0m\u001b[0m\n",
            "\u001b[0;32m/usr/local/lib/python3.7/dist-packages/pandas/io/parsers/c_parser_wrapper.py\u001b[0m in \u001b[0;36m__init__\u001b[0;34m(self, src, **kwds)\u001b[0m\n\u001b[1;32m     49\u001b[0m \u001b[0;34m\u001b[0m\u001b[0m\n\u001b[1;32m     50\u001b[0m         \u001b[0;31m# open handles\u001b[0m\u001b[0;34m\u001b[0m\u001b[0;34m\u001b[0m\u001b[0;34m\u001b[0m\u001b[0m\n\u001b[0;32m---> 51\u001b[0;31m         \u001b[0mself\u001b[0m\u001b[0;34m.\u001b[0m\u001b[0m_open_handles\u001b[0m\u001b[0;34m(\u001b[0m\u001b[0msrc\u001b[0m\u001b[0;34m,\u001b[0m \u001b[0mkwds\u001b[0m\u001b[0;34m)\u001b[0m\u001b[0;34m\u001b[0m\u001b[0;34m\u001b[0m\u001b[0m\n\u001b[0m\u001b[1;32m     52\u001b[0m         \u001b[0;32massert\u001b[0m \u001b[0mself\u001b[0m\u001b[0;34m.\u001b[0m\u001b[0mhandles\u001b[0m \u001b[0;32mis\u001b[0m \u001b[0;32mnot\u001b[0m \u001b[0;32mNone\u001b[0m\u001b[0;34m\u001b[0m\u001b[0;34m\u001b[0m\u001b[0m\n\u001b[1;32m     53\u001b[0m \u001b[0;34m\u001b[0m\u001b[0m\n",
            "\u001b[0;32m/usr/local/lib/python3.7/dist-packages/pandas/io/parsers/base_parser.py\u001b[0m in \u001b[0;36m_open_handles\u001b[0;34m(self, src, kwds)\u001b[0m\n\u001b[1;32m    227\u001b[0m             \u001b[0mmemory_map\u001b[0m\u001b[0;34m=\u001b[0m\u001b[0mkwds\u001b[0m\u001b[0;34m.\u001b[0m\u001b[0mget\u001b[0m\u001b[0;34m(\u001b[0m\u001b[0;34m\"memory_map\"\u001b[0m\u001b[0;34m,\u001b[0m \u001b[0;32mFalse\u001b[0m\u001b[0;34m)\u001b[0m\u001b[0;34m,\u001b[0m\u001b[0;34m\u001b[0m\u001b[0;34m\u001b[0m\u001b[0m\n\u001b[1;32m    228\u001b[0m             \u001b[0mstorage_options\u001b[0m\u001b[0;34m=\u001b[0m\u001b[0mkwds\u001b[0m\u001b[0;34m.\u001b[0m\u001b[0mget\u001b[0m\u001b[0;34m(\u001b[0m\u001b[0;34m\"storage_options\"\u001b[0m\u001b[0;34m,\u001b[0m \u001b[0;32mNone\u001b[0m\u001b[0;34m)\u001b[0m\u001b[0;34m,\u001b[0m\u001b[0;34m\u001b[0m\u001b[0;34m\u001b[0m\u001b[0m\n\u001b[0;32m--> 229\u001b[0;31m             \u001b[0merrors\u001b[0m\u001b[0;34m=\u001b[0m\u001b[0mkwds\u001b[0m\u001b[0;34m.\u001b[0m\u001b[0mget\u001b[0m\u001b[0;34m(\u001b[0m\u001b[0;34m\"encoding_errors\"\u001b[0m\u001b[0;34m,\u001b[0m \u001b[0;34m\"strict\"\u001b[0m\u001b[0;34m)\u001b[0m\u001b[0;34m,\u001b[0m\u001b[0;34m\u001b[0m\u001b[0;34m\u001b[0m\u001b[0m\n\u001b[0m\u001b[1;32m    230\u001b[0m         )\n\u001b[1;32m    231\u001b[0m \u001b[0;34m\u001b[0m\u001b[0m\n",
            "\u001b[0;32m/usr/local/lib/python3.7/dist-packages/pandas/io/common.py\u001b[0m in \u001b[0;36mget_handle\u001b[0;34m(path_or_buf, mode, encoding, compression, memory_map, is_text, errors, storage_options)\u001b[0m\n\u001b[1;32m    705\u001b[0m                 \u001b[0mencoding\u001b[0m\u001b[0;34m=\u001b[0m\u001b[0mioargs\u001b[0m\u001b[0;34m.\u001b[0m\u001b[0mencoding\u001b[0m\u001b[0;34m,\u001b[0m\u001b[0;34m\u001b[0m\u001b[0;34m\u001b[0m\u001b[0m\n\u001b[1;32m    706\u001b[0m                 \u001b[0merrors\u001b[0m\u001b[0;34m=\u001b[0m\u001b[0merrors\u001b[0m\u001b[0;34m,\u001b[0m\u001b[0;34m\u001b[0m\u001b[0;34m\u001b[0m\u001b[0m\n\u001b[0;32m--> 707\u001b[0;31m                 \u001b[0mnewline\u001b[0m\u001b[0;34m=\u001b[0m\u001b[0;34m\"\"\u001b[0m\u001b[0;34m,\u001b[0m\u001b[0;34m\u001b[0m\u001b[0;34m\u001b[0m\u001b[0m\n\u001b[0m\u001b[1;32m    708\u001b[0m             )\n\u001b[1;32m    709\u001b[0m         \u001b[0;32melse\u001b[0m\u001b[0;34m:\u001b[0m\u001b[0;34m\u001b[0m\u001b[0;34m\u001b[0m\u001b[0m\n",
            "\u001b[0;31mFileNotFoundError\u001b[0m: [Errno 2] No such file or directory: '../input/predict-diabities/diabetes.csv'"
          ]
        }
      ]
    },
    {
      "cell_type": "markdown",
      "source": [
        "# Getting to know our dataset"
      ],
      "metadata": {
        "id": "IFuLG6BcNpng"
      }
    },
    {
      "cell_type": "code",
      "source": [
        "df.shape"
      ],
      "metadata": {
        "execution": {
          "iopub.status.busy": "2022-11-11T23:25:37.102775Z",
          "iopub.execute_input": "2022-11-11T23:25:37.10325Z",
          "iopub.status.idle": "2022-11-11T23:25:37.110243Z",
          "shell.execute_reply.started": "2022-11-11T23:25:37.103219Z",
          "shell.execute_reply": "2022-11-11T23:25:37.108874Z"
        },
        "trusted": true,
        "id": "kj3sCGVUNpng"
      },
      "execution_count": null,
      "outputs": []
    },
    {
      "cell_type": "code",
      "source": [
        "df.head()"
      ],
      "metadata": {
        "execution": {
          "iopub.status.busy": "2022-11-11T23:25:37.112279Z",
          "iopub.execute_input": "2022-11-11T23:25:37.112575Z",
          "iopub.status.idle": "2022-11-11T23:25:37.128367Z",
          "shell.execute_reply.started": "2022-11-11T23:25:37.112547Z",
          "shell.execute_reply": "2022-11-11T23:25:37.127323Z"
        },
        "trusted": true,
        "id": "cmcHkoIFNpng"
      },
      "execution_count": null,
      "outputs": []
    },
    {
      "cell_type": "code",
      "source": [
        "df.describe()"
      ],
      "metadata": {
        "execution": {
          "iopub.status.busy": "2022-11-11T23:25:37.175122Z",
          "iopub.execute_input": "2022-11-11T23:25:37.175484Z",
          "iopub.status.idle": "2022-11-11T23:25:37.216364Z",
          "shell.execute_reply.started": "2022-11-11T23:25:37.175454Z",
          "shell.execute_reply": "2022-11-11T23:25:37.215276Z"
        },
        "trusted": true,
        "id": "TML7EyHZNpnh"
      },
      "execution_count": null,
      "outputs": []
    },
    {
      "cell_type": "code",
      "source": [
        "df.info()"
      ],
      "metadata": {
        "execution": {
          "iopub.status.busy": "2022-11-11T23:25:37.218743Z",
          "iopub.execute_input": "2022-11-11T23:25:37.219216Z",
          "iopub.status.idle": "2022-11-11T23:25:37.233035Z",
          "shell.execute_reply.started": "2022-11-11T23:25:37.219171Z",
          "shell.execute_reply": "2022-11-11T23:25:37.232193Z"
        },
        "trusted": true,
        "id": "QxJhBtMXNpnh"
      },
      "execution_count": null,
      "outputs": []
    },
    {
      "cell_type": "markdown",
      "source": [
        "All of our features are numeric so there is no need for dealing with categorical features."
      ],
      "metadata": {
        "id": "DnpM_-HsNpni"
      }
    },
    {
      "cell_type": "code",
      "source": [
        "print(f'number of duplicate rows: {df.duplicated().sum()}\\nnumber of null values:\\n{df.isna().sum()}')"
      ],
      "metadata": {
        "execution": {
          "iopub.status.busy": "2022-11-11T23:25:37.233952Z",
          "iopub.execute_input": "2022-11-11T23:25:37.234253Z",
          "iopub.status.idle": "2022-11-11T23:25:37.246291Z",
          "shell.execute_reply.started": "2022-11-11T23:25:37.234224Z",
          "shell.execute_reply": "2022-11-11T23:25:37.245046Z"
        },
        "trusted": true,
        "id": "zJxIzsCWNpni"
      },
      "execution_count": null,
      "outputs": []
    },
    {
      "cell_type": "markdown",
      "source": [
        "Fortunately, there are no null or duplicate values in our dataset so we can continue."
      ],
      "metadata": {
        "id": "rUb2egZDNpnj"
      }
    },
    {
      "cell_type": "markdown",
      "source": [
        "## Exploratotry Data Analysis(EDA)"
      ],
      "metadata": {
        "id": "N_GvnKMKNpnj"
      }
    },
    {
      "cell_type": "code",
      "source": [
        "sns.pairplot(df,palette = [\"#8000ff\",\"#da8829\"])"
      ],
      "metadata": {
        "execution": {
          "iopub.status.busy": "2022-11-11T23:25:37.248287Z",
          "iopub.execute_input": "2022-11-11T23:25:37.248606Z",
          "iopub.status.idle": "2022-11-11T23:25:37.253585Z",
          "shell.execute_reply.started": "2022-11-11T23:25:37.248576Z",
          "shell.execute_reply": "2022-11-11T23:25:37.252485Z"
        },
        "trusted": true,
        "id": "ct3UCHNxNpnj"
      },
      "execution_count": null,
      "outputs": []
    },
    {
      "cell_type": "code",
      "source": [
        "sns.heatmap(df.corr(),annot=True)"
      ],
      "metadata": {
        "execution": {
          "iopub.status.busy": "2022-11-11T23:25:37.256629Z",
          "iopub.execute_input": "2022-11-11T23:25:37.257004Z",
          "iopub.status.idle": "2022-11-11T23:25:38.062006Z",
          "shell.execute_reply.started": "2022-11-11T23:25:37.256967Z",
          "shell.execute_reply": "2022-11-11T23:25:38.060643Z"
        },
        "trusted": true,
        "id": "OaQtWvrBNpnk"
      },
      "execution_count": null,
      "outputs": []
    },
    {
      "cell_type": "markdown",
      "source": [
        "# Modeling  \n",
        "First of all, we split our dataset into a training and a test dataset."
      ],
      "metadata": {
        "id": "21_7wUtcNpnk"
      }
    },
    {
      "cell_type": "code",
      "source": [
        "data = df.values\n",
        "X, y = data[:,:-1], data[:,-1]\n",
        "X_train, X_test, y_train, y_test = train_test_split(X, y, test_size=0.2, random_state = 0)"
      ],
      "metadata": {
        "execution": {
          "iopub.status.busy": "2022-11-11T23:25:38.064472Z",
          "iopub.execute_input": "2022-11-11T23:25:38.064962Z",
          "iopub.status.idle": "2022-11-11T23:25:38.07297Z",
          "shell.execute_reply.started": "2022-11-11T23:25:38.064899Z",
          "shell.execute_reply": "2022-11-11T23:25:38.071707Z"
        },
        "trusted": true,
        "id": "wJABubvFNpnk"
      },
      "execution_count": null,
      "outputs": []
    },
    {
      "cell_type": "markdown",
      "source": [
        "Here we are going to define all of our models:"
      ],
      "metadata": {
        "id": "f527wEdINpnk"
      }
    },
    {
      "cell_type": "code",
      "source": [
        "lr_model = LogisticRegression(max_iter = 10000)\n",
        "ridge_model = RidgeClassifier()\n",
        "ridgecv_model = RidgeClassifierCV()\n",
        "gpc = GaussianProcessClassifier()\n",
        "tr = tree.DecisionTreeClassifier()\n",
        "knn = KNeighborsClassifier(n_neighbors=3)\n",
        "svc = make_pipeline(StandardScaler(), SVC(gamma='auto'))\n",
        "rf = RandomForestClassifier(max_depth=2)"
      ],
      "metadata": {
        "execution": {
          "iopub.status.busy": "2022-11-11T23:25:38.074949Z",
          "iopub.execute_input": "2022-11-11T23:25:38.075423Z",
          "iopub.status.idle": "2022-11-11T23:25:38.083839Z",
          "shell.execute_reply.started": "2022-11-11T23:25:38.075369Z",
          "shell.execute_reply": "2022-11-11T23:25:38.082643Z"
        },
        "trusted": true,
        "id": "8Etqp-23Npnl"
      },
      "execution_count": null,
      "outputs": []
    },
    {
      "cell_type": "markdown",
      "source": [
        "The model_metrics function below returns useful metrics such as accuracy and f1_score in a dictionary format for each model."
      ],
      "metadata": {
        "id": "LfOrcFe0Npnl"
      }
    },
    {
      "cell_type": "code",
      "source": [
        "def model_metrics(model, X_test, y_test, decimals = 5):\n",
        "    import numpy as np\n",
        "    model.fit(X_train, y_train)\n",
        "    y_pred = model.predict(X_test)\n",
        "    acc = np.round(accuracy_score(y_test, y_pred),decimals)\n",
        "    pre = np.round(precision_score(y_test, y_pred),decimals)\n",
        "    rec = np.round(recall_score(y_test, y_pred),decimals)\n",
        "    f1 = np.round(f1_score(y_test, y_pred),decimals)\n",
        "    auc = np.round(roc_auc_score(y_test, y_pred),decimals)\n",
        "    return {'accuracy': acc, 'precision': pre, 'recall': rec, 'f1_score': f1, 'auc': auc}"
      ],
      "metadata": {
        "execution": {
          "iopub.status.busy": "2022-11-11T23:25:38.086694Z",
          "iopub.execute_input": "2022-11-11T23:25:38.08713Z",
          "iopub.status.idle": "2022-11-11T23:25:38.096641Z",
          "shell.execute_reply.started": "2022-11-11T23:25:38.087093Z",
          "shell.execute_reply": "2022-11-11T23:25:38.095519Z"
        },
        "trusted": true,
        "id": "D9NoDTMXNpnl"
      },
      "execution_count": null,
      "outputs": []
    },
    {
      "cell_type": "markdown",
      "source": [
        "We combine the metrics for our models into a dataframe:"
      ],
      "metadata": {
        "id": "xbVHplyFNpnl"
      }
    },
    {
      "cell_type": "code",
      "source": [
        "results = pd.DataFrame(\n",
        "    [\n",
        "        model_metrics(lr_model, X_test, y_test),\n",
        "        model_metrics(ridge_model, X_test, y_test),\n",
        "        model_metrics(ridgecv_model, X_test, y_test),\n",
        "        model_metrics(gpc, X_test, y_test),\n",
        "        model_metrics(tr, X_test, y_test),\n",
        "        model_metrics(knn, X_test, y_test),\n",
        "        model_metrics(svc, X_test, y_test),\n",
        "        model_metrics(rf, X_test, y_test)\n",
        "    ], \n",
        "    index = ['LogisticRegression', 'RidgeClassifier', 'RidgeClassifierCV', 'GaussianProcessClassifier', 'DecisionTreeClassifier', 'KNeighborsClassifier', 'SupportVectorClassification', 'RandomForestClassifier']) \\\n",
        ".reset_index() \\\n",
        ".rename(columns={'index':'model'})"
      ],
      "metadata": {
        "execution": {
          "iopub.status.busy": "2022-11-11T23:25:38.098195Z",
          "iopub.execute_input": "2022-11-11T23:25:38.09862Z",
          "iopub.status.idle": "2022-11-11T23:25:38.701764Z",
          "shell.execute_reply.started": "2022-11-11T23:25:38.098586Z",
          "shell.execute_reply": "2022-11-11T23:25:38.700657Z"
        },
        "trusted": true,
        "id": "tuL9UfO4Npnm"
      },
      "execution_count": null,
      "outputs": []
    },
    {
      "cell_type": "markdown",
      "source": [
        "## Model Selection  \n",
        "Now, Let's see which of our models has performed better!"
      ],
      "metadata": {
        "id": "GE4q_wStNpnm"
      }
    },
    {
      "cell_type": "code",
      "source": [
        "results.sort_values(['accuracy', 'f1_score', 'auc'],\n",
        "              ascending = [False, False, False])"
      ],
      "metadata": {
        "execution": {
          "iopub.status.busy": "2022-11-11T23:25:38.703102Z",
          "iopub.execute_input": "2022-11-11T23:25:38.703914Z",
          "iopub.status.idle": "2022-11-11T23:25:38.72169Z",
          "shell.execute_reply.started": "2022-11-11T23:25:38.703879Z",
          "shell.execute_reply": "2022-11-11T23:25:38.720455Z"
        },
        "trusted": true,
        "id": "tv0jEliDNpnm"
      },
      "execution_count": null,
      "outputs": []
    },
    {
      "cell_type": "markdown",
      "source": [
        "Let's visualize the performance of our models:"
      ],
      "metadata": {
        "id": "Jqe6bxKONpnm"
      }
    },
    {
      "cell_type": "code",
      "source": [
        "results = results.sort_values('accuracy', ascending = False)\n",
        "plt.xticks(rotation=45)\n",
        "sns.barplot(x = results['model'], y=results['accuracy']).set_title('Model Performance based on Accuracy')"
      ],
      "metadata": {
        "execution": {
          "iopub.status.busy": "2022-11-11T23:28:54.05257Z",
          "iopub.execute_input": "2022-11-11T23:28:54.053001Z",
          "iopub.status.idle": "2022-11-11T23:28:54.384617Z",
          "shell.execute_reply.started": "2022-11-11T23:28:54.052966Z",
          "shell.execute_reply": "2022-11-11T23:28:54.383387Z"
        },
        "trusted": true,
        "id": "O3mFdnDwNpnm"
      },
      "execution_count": null,
      "outputs": []
    },
    {
      "cell_type": "code",
      "source": [
        "results = results.sort_values('f1_score', ascending = False)\n",
        "plt.xticks(rotation=45)\n",
        "sns.barplot(x = results['model'], y=results['f1_score']).set_title('Model Performance based on the f1_score')"
      ],
      "metadata": {
        "execution": {
          "iopub.status.busy": "2022-11-11T23:25:39.080088Z",
          "iopub.execute_input": "2022-11-11T23:25:39.081515Z",
          "iopub.status.idle": "2022-11-11T23:25:39.38313Z",
          "shell.execute_reply.started": "2022-11-11T23:25:39.081463Z",
          "shell.execute_reply": "2022-11-11T23:25:39.38208Z"
        },
        "trusted": true,
        "id": "OHd_egqpNpnn"
      },
      "execution_count": null,
      "outputs": []
    },
    {
      "cell_type": "code",
      "source": [
        "results = results.sort_values('auc', ascending = False)\n",
        "plt.xticks(rotation=45)\n",
        "sns.barplot(x = results['model'], y=results['auc']).set_title('Model Performance based on AUC(Area Under Curve)')"
      ],
      "metadata": {
        "execution": {
          "iopub.status.busy": "2022-11-11T23:25:39.384468Z",
          "iopub.execute_input": "2022-11-11T23:25:39.384917Z",
          "iopub.status.idle": "2022-11-11T23:25:39.729048Z",
          "shell.execute_reply.started": "2022-11-11T23:25:39.384872Z",
          "shell.execute_reply": "2022-11-11T23:25:39.728263Z"
        },
        "trusted": true,
        "id": "rh3Okq5sNpnn"
      },
      "execution_count": null,
      "outputs": []
    },
    {
      "cell_type": "markdown",
      "source": [
        "# Conclusion and future projects  \n",
        "It appears that with the conditions we had for our modeling process, the RidgeClassifier has performed better than the others in terms of accuracy, f1_score and also AUC, so we can say that in this situation the RidgeClassifier is the best model. However, the performance of our mdoels does depend on the random_state argument in our data splitting section and the results could change if we had a different value for it.  "
      ],
      "metadata": {
        "id": "gBXqlX1uNpnn"
      }
    },
    {
      "cell_type": "markdown",
      "source": [
        "In future projects we could do a little more EDA(Exploratory Data Analysis) on our dataset to get to know the relationships between the variables better. We could also try using a Neural Network for classifying the patients and see how our performance holds up. Also trying to optimize the performance of our current models by adjusting their arguments could be valuable as well!"
      ],
      "metadata": {
        "id": "kgxKkATPNpnn"
      }
    },
    {
      "cell_type": "markdown",
      "source": [
        "I would greatly appreciate it if you could upvote this notebook and also take a look at [my other notebooks](https://www.kaggle.com/hosseinfaridnasr/code)."
      ],
      "metadata": {
        "id": "ON79hio7Npnn"
      }
    }
  ]
}